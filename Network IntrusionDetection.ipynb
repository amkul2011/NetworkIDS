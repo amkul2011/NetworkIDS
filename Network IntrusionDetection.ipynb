{
 "cells": [
  {
   "cell_type": "code",
   "execution_count": 1,
   "metadata": {},
   "outputs": [],
   "source": [
    "import pandas as pd\n",
    "from sklearn.preprocessing import OneHotEncoder\n",
    "from sklearn.preprocessing import StandardScaler\n",
    "\n",
    "\n",
    "\n",
    "data=pd.read_csv('C:\\\\Users\\\\Amit\\\\Desktop\\\\UNSW_NB15_training-set_csc215.csv')"
   ]
  },
  {
   "cell_type": "markdown",
   "metadata": {},
   "source": [
    "# DataPreprocessing"
   ]
  },
  {
   "cell_type": "code",
   "execution_count": 2,
   "metadata": {},
   "outputs": [
    {
     "data": {
      "text/html": [
       "<div>\n",
       "<style scoped>\n",
       "    .dataframe tbody tr th:only-of-type {\n",
       "        vertical-align: middle;\n",
       "    }\n",
       "\n",
       "    .dataframe tbody tr th {\n",
       "        vertical-align: top;\n",
       "    }\n",
       "\n",
       "    .dataframe thead th {\n",
       "        text-align: right;\n",
       "    }\n",
       "</style>\n",
       "<table border=\"1\" class=\"dataframe\">\n",
       "  <thead>\n",
       "    <tr style=\"text-align: right;\">\n",
       "      <th></th>\n",
       "      <th>id</th>\n",
       "      <th>dur</th>\n",
       "      <th>proto</th>\n",
       "      <th>service</th>\n",
       "      <th>state</th>\n",
       "      <th>spkts</th>\n",
       "      <th>dpkts</th>\n",
       "      <th>sbytes</th>\n",
       "      <th>dbytes</th>\n",
       "      <th>rate</th>\n",
       "      <th>...</th>\n",
       "      <th>ct_dst_sport_ltm</th>\n",
       "      <th>ct_dst_src_ltm</th>\n",
       "      <th>is_ftp_login</th>\n",
       "      <th>ct_ftp_cmd</th>\n",
       "      <th>ct_flw_http_mthd</th>\n",
       "      <th>ct_src_ltm</th>\n",
       "      <th>ct_srv_dst</th>\n",
       "      <th>is_sm_ips_ports</th>\n",
       "      <th>attack_cat</th>\n",
       "      <th>label</th>\n",
       "    </tr>\n",
       "  </thead>\n",
       "  <tbody>\n",
       "    <tr>\n",
       "      <th>3</th>\n",
       "      <td>4</td>\n",
       "      <td>1.681642</td>\n",
       "      <td>tcp</td>\n",
       "      <td>ftp</td>\n",
       "      <td>FIN</td>\n",
       "      <td>12</td>\n",
       "      <td>12</td>\n",
       "      <td>628</td>\n",
       "      <td>770</td>\n",
       "      <td>13.677108</td>\n",
       "      <td>...</td>\n",
       "      <td>1</td>\n",
       "      <td>3</td>\n",
       "      <td>1</td>\n",
       "      <td>1</td>\n",
       "      <td>0</td>\n",
       "      <td>2</td>\n",
       "      <td>1</td>\n",
       "      <td>0</td>\n",
       "      <td>Normal</td>\n",
       "      <td>0</td>\n",
       "    </tr>\n",
       "    <tr>\n",
       "      <th>11</th>\n",
       "      <td>12</td>\n",
       "      <td>2.093085</td>\n",
       "      <td>tcp</td>\n",
       "      <td>smtp</td>\n",
       "      <td>FIN</td>\n",
       "      <td>62</td>\n",
       "      <td>28</td>\n",
       "      <td>56329</td>\n",
       "      <td>2212</td>\n",
       "      <td>42.520967</td>\n",
       "      <td>...</td>\n",
       "      <td>1</td>\n",
       "      <td>2</td>\n",
       "      <td>0</td>\n",
       "      <td>0</td>\n",
       "      <td>0</td>\n",
       "      <td>1</td>\n",
       "      <td>1</td>\n",
       "      <td>0</td>\n",
       "      <td>Normal</td>\n",
       "      <td>0</td>\n",
       "    </tr>\n",
       "    <tr>\n",
       "      <th>15</th>\n",
       "      <td>16</td>\n",
       "      <td>0.000002</td>\n",
       "      <td>udp</td>\n",
       "      <td>snmp</td>\n",
       "      <td>INT</td>\n",
       "      <td>2</td>\n",
       "      <td>0</td>\n",
       "      <td>138</td>\n",
       "      <td>0</td>\n",
       "      <td>500000.001300</td>\n",
       "      <td>...</td>\n",
       "      <td>1</td>\n",
       "      <td>4</td>\n",
       "      <td>0</td>\n",
       "      <td>0</td>\n",
       "      <td>0</td>\n",
       "      <td>2</td>\n",
       "      <td>1</td>\n",
       "      <td>0</td>\n",
       "      <td>Normal</td>\n",
       "      <td>0</td>\n",
       "    </tr>\n",
       "    <tr>\n",
       "      <th>17</th>\n",
       "      <td>18</td>\n",
       "      <td>0.393556</td>\n",
       "      <td>tcp</td>\n",
       "      <td>http</td>\n",
       "      <td>FIN</td>\n",
       "      <td>10</td>\n",
       "      <td>8</td>\n",
       "      <td>860</td>\n",
       "      <td>1096</td>\n",
       "      <td>43.195886</td>\n",
       "      <td>...</td>\n",
       "      <td>1</td>\n",
       "      <td>2</td>\n",
       "      <td>0</td>\n",
       "      <td>0</td>\n",
       "      <td>1</td>\n",
       "      <td>1</td>\n",
       "      <td>3</td>\n",
       "      <td>0</td>\n",
       "      <td>Normal</td>\n",
       "      <td>0</td>\n",
       "    </tr>\n",
       "    <tr>\n",
       "      <th>21</th>\n",
       "      <td>22</td>\n",
       "      <td>0.338017</td>\n",
       "      <td>tcp</td>\n",
       "      <td>http</td>\n",
       "      <td>FIN</td>\n",
       "      <td>10</td>\n",
       "      <td>6</td>\n",
       "      <td>998</td>\n",
       "      <td>268</td>\n",
       "      <td>44.376468</td>\n",
       "      <td>...</td>\n",
       "      <td>1</td>\n",
       "      <td>1</td>\n",
       "      <td>0</td>\n",
       "      <td>0</td>\n",
       "      <td>1</td>\n",
       "      <td>2</td>\n",
       "      <td>3</td>\n",
       "      <td>0</td>\n",
       "      <td>Normal</td>\n",
       "      <td>0</td>\n",
       "    </tr>\n",
       "  </tbody>\n",
       "</table>\n",
       "<p>5 rows × 45 columns</p>\n",
       "</div>"
      ],
      "text/plain": [
       "    id       dur proto service state  spkts  dpkts  sbytes  dbytes  \\\n",
       "3    4  1.681642   tcp     ftp   FIN     12     12     628     770   \n",
       "11  12  2.093085   tcp    smtp   FIN     62     28   56329    2212   \n",
       "15  16  0.000002   udp    snmp   INT      2      0     138       0   \n",
       "17  18  0.393556   tcp    http   FIN     10      8     860    1096   \n",
       "21  22  0.338017   tcp    http   FIN     10      6     998     268   \n",
       "\n",
       "             rate  ...  ct_dst_sport_ltm  ct_dst_src_ltm  is_ftp_login  \\\n",
       "3       13.677108  ...                 1               3             1   \n",
       "11      42.520967  ...                 1               2             0   \n",
       "15  500000.001300  ...                 1               4             0   \n",
       "17      43.195886  ...                 1               2             0   \n",
       "21      44.376468  ...                 1               1             0   \n",
       "\n",
       "    ct_ftp_cmd  ct_flw_http_mthd  ct_src_ltm  ct_srv_dst  is_sm_ips_ports  \\\n",
       "3            1                 0           2           1                0   \n",
       "11           0                 0           1           1                0   \n",
       "15           0                 0           2           1                0   \n",
       "17           0                 1           1           3                0   \n",
       "21           0                 1           2           3                0   \n",
       "\n",
       "    attack_cat  label  \n",
       "3       Normal      0  \n",
       "11      Normal      0  \n",
       "15      Normal      0  \n",
       "17      Normal      0  \n",
       "21      Normal      0  \n",
       "\n",
       "[5 rows x 45 columns]"
      ]
     },
     "execution_count": 2,
     "metadata": {},
     "output_type": "execute_result"
    }
   ],
   "source": [
    "# Dropping rows with missing values\n",
    "\n",
    "data=data[data.service !='-']\n",
    "data.head()"
   ]
  },
  {
   "cell_type": "code",
   "execution_count": 3,
   "metadata": {},
   "outputs": [],
   "source": [
    "# segregating dependent training variable\n",
    "ytrain=data.iloc[:,44]"
   ]
  },
  {
   "cell_type": "code",
   "execution_count": 4,
   "metadata": {},
   "outputs": [],
   "source": [
    "data= data.drop(columns=['id','attack_cat','label'])"
   ]
  },
  {
   "cell_type": "code",
   "execution_count": 5,
   "metadata": {},
   "outputs": [
    {
     "data": {
      "text/html": [
       "<div>\n",
       "<style scoped>\n",
       "    .dataframe tbody tr th:only-of-type {\n",
       "        vertical-align: middle;\n",
       "    }\n",
       "\n",
       "    .dataframe tbody tr th {\n",
       "        vertical-align: top;\n",
       "    }\n",
       "\n",
       "    .dataframe thead th {\n",
       "        text-align: right;\n",
       "    }\n",
       "</style>\n",
       "<table border=\"1\" class=\"dataframe\">\n",
       "  <thead>\n",
       "    <tr style=\"text-align: right;\">\n",
       "      <th></th>\n",
       "      <th>dur</th>\n",
       "      <th>spkts</th>\n",
       "      <th>dpkts</th>\n",
       "      <th>sbytes</th>\n",
       "      <th>dbytes</th>\n",
       "      <th>rate</th>\n",
       "      <th>sttl</th>\n",
       "      <th>dttl</th>\n",
       "      <th>sload</th>\n",
       "      <th>dload</th>\n",
       "      <th>...</th>\n",
       "      <th>service_radius</th>\n",
       "      <th>service_smtp</th>\n",
       "      <th>service_snmp</th>\n",
       "      <th>service_ssh</th>\n",
       "      <th>service_ssl</th>\n",
       "      <th>state_CON</th>\n",
       "      <th>state_FIN</th>\n",
       "      <th>state_INT</th>\n",
       "      <th>state_REQ</th>\n",
       "      <th>state_RST</th>\n",
       "    </tr>\n",
       "  </thead>\n",
       "  <tbody>\n",
       "    <tr>\n",
       "      <th>3</th>\n",
       "      <td>1.681642</td>\n",
       "      <td>12</td>\n",
       "      <td>12</td>\n",
       "      <td>628</td>\n",
       "      <td>770</td>\n",
       "      <td>13.677108</td>\n",
       "      <td>62</td>\n",
       "      <td>252</td>\n",
       "      <td>2.740179e+03</td>\n",
       "      <td>3358.622070</td>\n",
       "      <td>...</td>\n",
       "      <td>0</td>\n",
       "      <td>0</td>\n",
       "      <td>0</td>\n",
       "      <td>0</td>\n",
       "      <td>0</td>\n",
       "      <td>0</td>\n",
       "      <td>1</td>\n",
       "      <td>0</td>\n",
       "      <td>0</td>\n",
       "      <td>0</td>\n",
       "    </tr>\n",
       "    <tr>\n",
       "      <th>11</th>\n",
       "      <td>2.093085</td>\n",
       "      <td>62</td>\n",
       "      <td>28</td>\n",
       "      <td>56329</td>\n",
       "      <td>2212</td>\n",
       "      <td>42.520967</td>\n",
       "      <td>62</td>\n",
       "      <td>252</td>\n",
       "      <td>2.118251e+05</td>\n",
       "      <td>8152.559082</td>\n",
       "      <td>...</td>\n",
       "      <td>0</td>\n",
       "      <td>1</td>\n",
       "      <td>0</td>\n",
       "      <td>0</td>\n",
       "      <td>0</td>\n",
       "      <td>0</td>\n",
       "      <td>1</td>\n",
       "      <td>0</td>\n",
       "      <td>0</td>\n",
       "      <td>0</td>\n",
       "    </tr>\n",
       "    <tr>\n",
       "      <th>15</th>\n",
       "      <td>0.000002</td>\n",
       "      <td>2</td>\n",
       "      <td>0</td>\n",
       "      <td>138</td>\n",
       "      <td>0</td>\n",
       "      <td>500000.001300</td>\n",
       "      <td>254</td>\n",
       "      <td>0</td>\n",
       "      <td>2.760000e+08</td>\n",
       "      <td>0.000000</td>\n",
       "      <td>...</td>\n",
       "      <td>0</td>\n",
       "      <td>0</td>\n",
       "      <td>1</td>\n",
       "      <td>0</td>\n",
       "      <td>0</td>\n",
       "      <td>0</td>\n",
       "      <td>0</td>\n",
       "      <td>1</td>\n",
       "      <td>0</td>\n",
       "      <td>0</td>\n",
       "    </tr>\n",
       "    <tr>\n",
       "      <th>17</th>\n",
       "      <td>0.393556</td>\n",
       "      <td>10</td>\n",
       "      <td>8</td>\n",
       "      <td>860</td>\n",
       "      <td>1096</td>\n",
       "      <td>43.195886</td>\n",
       "      <td>62</td>\n",
       "      <td>252</td>\n",
       "      <td>1.573347e+04</td>\n",
       "      <td>19494.048830</td>\n",
       "      <td>...</td>\n",
       "      <td>0</td>\n",
       "      <td>0</td>\n",
       "      <td>0</td>\n",
       "      <td>0</td>\n",
       "      <td>0</td>\n",
       "      <td>0</td>\n",
       "      <td>1</td>\n",
       "      <td>0</td>\n",
       "      <td>0</td>\n",
       "      <td>0</td>\n",
       "    </tr>\n",
       "    <tr>\n",
       "      <th>21</th>\n",
       "      <td>0.338017</td>\n",
       "      <td>10</td>\n",
       "      <td>6</td>\n",
       "      <td>998</td>\n",
       "      <td>268</td>\n",
       "      <td>44.376468</td>\n",
       "      <td>254</td>\n",
       "      <td>252</td>\n",
       "      <td>2.127704e+04</td>\n",
       "      <td>5301.508789</td>\n",
       "      <td>...</td>\n",
       "      <td>0</td>\n",
       "      <td>0</td>\n",
       "      <td>0</td>\n",
       "      <td>0</td>\n",
       "      <td>0</td>\n",
       "      <td>0</td>\n",
       "      <td>1</td>\n",
       "      <td>0</td>\n",
       "      <td>0</td>\n",
       "      <td>0</td>\n",
       "    </tr>\n",
       "  </tbody>\n",
       "</table>\n",
       "<p>5 rows × 58 columns</p>\n",
       "</div>"
      ],
      "text/plain": [
       "         dur  spkts  dpkts  sbytes  dbytes           rate  sttl  dttl  \\\n",
       "3   1.681642     12     12     628     770      13.677108    62   252   \n",
       "11  2.093085     62     28   56329    2212      42.520967    62   252   \n",
       "15  0.000002      2      0     138       0  500000.001300   254     0   \n",
       "17  0.393556     10      8     860    1096      43.195886    62   252   \n",
       "21  0.338017     10      6     998     268      44.376468   254   252   \n",
       "\n",
       "           sload         dload  ...  service_radius  service_smtp  \\\n",
       "3   2.740179e+03   3358.622070  ...               0             0   \n",
       "11  2.118251e+05   8152.559082  ...               0             1   \n",
       "15  2.760000e+08      0.000000  ...               0             0   \n",
       "17  1.573347e+04  19494.048830  ...               0             0   \n",
       "21  2.127704e+04   5301.508789  ...               0             0   \n",
       "\n",
       "    service_snmp  service_ssh  service_ssl  state_CON  state_FIN  state_INT  \\\n",
       "3              0            0            0          0          1          0   \n",
       "11             0            0            0          0          1          0   \n",
       "15             1            0            0          0          0          1   \n",
       "17             0            0            0          0          1          0   \n",
       "21             0            0            0          0          1          0   \n",
       "\n",
       "    state_REQ  state_RST  \n",
       "3           0          0  \n",
       "11          0          0  \n",
       "15          0          0  \n",
       "17          0          0  \n",
       "21          0          0  \n",
       "\n",
       "[5 rows x 58 columns]"
      ]
     },
     "execution_count": 5,
     "metadata": {},
     "output_type": "execute_result"
    }
   ],
   "source": [
    "# Performing One Hot Encoding on categorical data\n",
    "newdata=data\n",
    "newdata= pd.get_dummies(newdata, columns=['proto', 'service','state'])\n",
    "newdata.head()"
   ]
  },
  {
   "cell_type": "code",
   "execution_count": 6,
   "metadata": {},
   "outputs": [],
   "source": [
    "#Independent matrix of features\n",
    "xtrain=newdata.iloc[:,:]"
   ]
  },
  {
   "cell_type": "code",
   "execution_count": 7,
   "metadata": {},
   "outputs": [
    {
     "data": {
      "text/plain": [
       "(81173, 58)"
      ]
     },
     "execution_count": 7,
     "metadata": {},
     "output_type": "execute_result"
    }
   ],
   "source": [
    "xtrain.shape"
   ]
  },
  {
   "cell_type": "code",
   "execution_count": 8,
   "metadata": {},
   "outputs": [],
   "source": [
    "# Datapreprocessing on test data\n",
    "tdata=pd.read_csv('C:\\\\Users\\\\Amit\\\\Desktop\\\\UNSW_NB15_test-set_csc215.csv')"
   ]
  },
  {
   "cell_type": "code",
   "execution_count": 9,
   "metadata": {},
   "outputs": [
    {
     "data": {
      "text/html": [
       "<div>\n",
       "<style scoped>\n",
       "    .dataframe tbody tr th:only-of-type {\n",
       "        vertical-align: middle;\n",
       "    }\n",
       "\n",
       "    .dataframe tbody tr th {\n",
       "        vertical-align: top;\n",
       "    }\n",
       "\n",
       "    .dataframe thead th {\n",
       "        text-align: right;\n",
       "    }\n",
       "</style>\n",
       "<table border=\"1\" class=\"dataframe\">\n",
       "  <thead>\n",
       "    <tr style=\"text-align: right;\">\n",
       "      <th></th>\n",
       "      <th>id</th>\n",
       "      <th>dur</th>\n",
       "      <th>proto</th>\n",
       "      <th>service</th>\n",
       "      <th>state</th>\n",
       "      <th>spkts</th>\n",
       "      <th>dpkts</th>\n",
       "      <th>sbytes</th>\n",
       "      <th>dbytes</th>\n",
       "      <th>rate</th>\n",
       "      <th>...</th>\n",
       "      <th>ct_dst_sport_ltm</th>\n",
       "      <th>ct_dst_src_ltm</th>\n",
       "      <th>is_ftp_login</th>\n",
       "      <th>ct_ftp_cmd</th>\n",
       "      <th>ct_flw_http_mthd</th>\n",
       "      <th>ct_src_ltm</th>\n",
       "      <th>ct_srv_dst</th>\n",
       "      <th>is_sm_ips_ports</th>\n",
       "      <th>attack_cat</th>\n",
       "      <th>label</th>\n",
       "    </tr>\n",
       "  </thead>\n",
       "  <tbody>\n",
       "    <tr>\n",
       "      <th>35</th>\n",
       "      <td>36</td>\n",
       "      <td>0.983874</td>\n",
       "      <td>tcp</td>\n",
       "      <td>http</td>\n",
       "      <td>FIN</td>\n",
       "      <td>10</td>\n",
       "      <td>8</td>\n",
       "      <td>816</td>\n",
       "      <td>1172</td>\n",
       "      <td>17.278635</td>\n",
       "      <td>...</td>\n",
       "      <td>1</td>\n",
       "      <td>2</td>\n",
       "      <td>0</td>\n",
       "      <td>0</td>\n",
       "      <td>1</td>\n",
       "      <td>1</td>\n",
       "      <td>3</td>\n",
       "      <td>0</td>\n",
       "      <td>Normal</td>\n",
       "      <td>0</td>\n",
       "    </tr>\n",
       "    <tr>\n",
       "      <th>40</th>\n",
       "      <td>41</td>\n",
       "      <td>1.535254</td>\n",
       "      <td>tcp</td>\n",
       "      <td>http</td>\n",
       "      <td>FIN</td>\n",
       "      <td>10</td>\n",
       "      <td>10</td>\n",
       "      <td>826</td>\n",
       "      <td>1266</td>\n",
       "      <td>12.375802</td>\n",
       "      <td>...</td>\n",
       "      <td>1</td>\n",
       "      <td>2</td>\n",
       "      <td>0</td>\n",
       "      <td>0</td>\n",
       "      <td>1</td>\n",
       "      <td>1</td>\n",
       "      <td>3</td>\n",
       "      <td>0</td>\n",
       "      <td>Normal</td>\n",
       "      <td>0</td>\n",
       "    </tr>\n",
       "    <tr>\n",
       "      <th>45</th>\n",
       "      <td>46</td>\n",
       "      <td>1.059359</td>\n",
       "      <td>tcp</td>\n",
       "      <td>http</td>\n",
       "      <td>FIN</td>\n",
       "      <td>10</td>\n",
       "      <td>8</td>\n",
       "      <td>830</td>\n",
       "      <td>1134</td>\n",
       "      <td>16.047441</td>\n",
       "      <td>...</td>\n",
       "      <td>1</td>\n",
       "      <td>1</td>\n",
       "      <td>0</td>\n",
       "      <td>0</td>\n",
       "      <td>1</td>\n",
       "      <td>3</td>\n",
       "      <td>1</td>\n",
       "      <td>0</td>\n",
       "      <td>Normal</td>\n",
       "      <td>0</td>\n",
       "    </tr>\n",
       "    <tr>\n",
       "      <th>49</th>\n",
       "      <td>50</td>\n",
       "      <td>0.990548</td>\n",
       "      <td>tcp</td>\n",
       "      <td>http</td>\n",
       "      <td>FIN</td>\n",
       "      <td>10</td>\n",
       "      <td>10</td>\n",
       "      <td>804</td>\n",
       "      <td>1414</td>\n",
       "      <td>19.181301</td>\n",
       "      <td>...</td>\n",
       "      <td>1</td>\n",
       "      <td>2</td>\n",
       "      <td>0</td>\n",
       "      <td>0</td>\n",
       "      <td>1</td>\n",
       "      <td>1</td>\n",
       "      <td>2</td>\n",
       "      <td>0</td>\n",
       "      <td>Normal</td>\n",
       "      <td>0</td>\n",
       "    </tr>\n",
       "    <tr>\n",
       "      <th>72</th>\n",
       "      <td>73</td>\n",
       "      <td>1.303518</td>\n",
       "      <td>tcp</td>\n",
       "      <td>http</td>\n",
       "      <td>FIN</td>\n",
       "      <td>12</td>\n",
       "      <td>8</td>\n",
       "      <td>898</td>\n",
       "      <td>1120</td>\n",
       "      <td>14.575939</td>\n",
       "      <td>...</td>\n",
       "      <td>1</td>\n",
       "      <td>1</td>\n",
       "      <td>0</td>\n",
       "      <td>0</td>\n",
       "      <td>1</td>\n",
       "      <td>2</td>\n",
       "      <td>1</td>\n",
       "      <td>0</td>\n",
       "      <td>Normal</td>\n",
       "      <td>0</td>\n",
       "    </tr>\n",
       "  </tbody>\n",
       "</table>\n",
       "<p>5 rows × 45 columns</p>\n",
       "</div>"
      ],
      "text/plain": [
       "    id       dur proto service state  spkts  dpkts  sbytes  dbytes       rate  \\\n",
       "35  36  0.983874   tcp    http   FIN     10      8     816    1172  17.278635   \n",
       "40  41  1.535254   tcp    http   FIN     10     10     826    1266  12.375802   \n",
       "45  46  1.059359   tcp    http   FIN     10      8     830    1134  16.047441   \n",
       "49  50  0.990548   tcp    http   FIN     10     10     804    1414  19.181301   \n",
       "72  73  1.303518   tcp    http   FIN     12      8     898    1120  14.575939   \n",
       "\n",
       "    ...  ct_dst_sport_ltm  ct_dst_src_ltm  is_ftp_login  ct_ftp_cmd  \\\n",
       "35  ...                 1               2             0           0   \n",
       "40  ...                 1               2             0           0   \n",
       "45  ...                 1               1             0           0   \n",
       "49  ...                 1               2             0           0   \n",
       "72  ...                 1               1             0           0   \n",
       "\n",
       "    ct_flw_http_mthd  ct_src_ltm  ct_srv_dst  is_sm_ips_ports  attack_cat  \\\n",
       "35                 1           1           3                0      Normal   \n",
       "40                 1           1           3                0      Normal   \n",
       "45                 1           3           1                0      Normal   \n",
       "49                 1           1           2                0      Normal   \n",
       "72                 1           2           1                0      Normal   \n",
       "\n",
       "    label  \n",
       "35      0  \n",
       "40      0  \n",
       "45      0  \n",
       "49      0  \n",
       "72      0  \n",
       "\n",
       "[5 rows x 45 columns]"
      ]
     },
     "execution_count": 9,
     "metadata": {},
     "output_type": "execute_result"
    }
   ],
   "source": [
    "tdata=tdata[tdata.service !='-']\n",
    "tdata.head()"
   ]
  },
  {
   "cell_type": "code",
   "execution_count": 10,
   "metadata": {},
   "outputs": [],
   "source": [
    "ytest=tdata.iloc[:,44]"
   ]
  },
  {
   "cell_type": "code",
   "execution_count": 11,
   "metadata": {},
   "outputs": [],
   "source": [
    "tdata= tdata.drop(columns=['id','attack_cat','label'])"
   ]
  },
  {
   "cell_type": "code",
   "execution_count": 12,
   "metadata": {},
   "outputs": [
    {
     "data": {
      "text/html": [
       "<div>\n",
       "<style scoped>\n",
       "    .dataframe tbody tr th:only-of-type {\n",
       "        vertical-align: middle;\n",
       "    }\n",
       "\n",
       "    .dataframe tbody tr th {\n",
       "        vertical-align: top;\n",
       "    }\n",
       "\n",
       "    .dataframe thead th {\n",
       "        text-align: right;\n",
       "    }\n",
       "</style>\n",
       "<table border=\"1\" class=\"dataframe\">\n",
       "  <thead>\n",
       "    <tr style=\"text-align: right;\">\n",
       "      <th></th>\n",
       "      <th>dur</th>\n",
       "      <th>spkts</th>\n",
       "      <th>dpkts</th>\n",
       "      <th>sbytes</th>\n",
       "      <th>dbytes</th>\n",
       "      <th>rate</th>\n",
       "      <th>sttl</th>\n",
       "      <th>dttl</th>\n",
       "      <th>sload</th>\n",
       "      <th>dload</th>\n",
       "      <th>...</th>\n",
       "      <th>service_radius</th>\n",
       "      <th>service_smtp</th>\n",
       "      <th>service_snmp</th>\n",
       "      <th>service_ssh</th>\n",
       "      <th>service_ssl</th>\n",
       "      <th>state_ACC</th>\n",
       "      <th>state_CON</th>\n",
       "      <th>state_FIN</th>\n",
       "      <th>state_INT</th>\n",
       "      <th>state_REQ</th>\n",
       "    </tr>\n",
       "  </thead>\n",
       "  <tbody>\n",
       "    <tr>\n",
       "      <th>35</th>\n",
       "      <td>0.983874</td>\n",
       "      <td>10</td>\n",
       "      <td>8</td>\n",
       "      <td>816</td>\n",
       "      <td>1172</td>\n",
       "      <td>17.278635</td>\n",
       "      <td>62</td>\n",
       "      <td>252</td>\n",
       "      <td>5976.375000</td>\n",
       "      <td>8342.531250</td>\n",
       "      <td>...</td>\n",
       "      <td>0</td>\n",
       "      <td>0</td>\n",
       "      <td>0</td>\n",
       "      <td>0</td>\n",
       "      <td>0</td>\n",
       "      <td>0</td>\n",
       "      <td>0</td>\n",
       "      <td>1</td>\n",
       "      <td>0</td>\n",
       "      <td>0</td>\n",
       "    </tr>\n",
       "    <tr>\n",
       "      <th>40</th>\n",
       "      <td>1.535254</td>\n",
       "      <td>10</td>\n",
       "      <td>10</td>\n",
       "      <td>826</td>\n",
       "      <td>1266</td>\n",
       "      <td>12.375802</td>\n",
       "      <td>62</td>\n",
       "      <td>252</td>\n",
       "      <td>3876.882812</td>\n",
       "      <td>5940.385254</td>\n",
       "      <td>...</td>\n",
       "      <td>0</td>\n",
       "      <td>0</td>\n",
       "      <td>0</td>\n",
       "      <td>0</td>\n",
       "      <td>0</td>\n",
       "      <td>0</td>\n",
       "      <td>0</td>\n",
       "      <td>1</td>\n",
       "      <td>0</td>\n",
       "      <td>0</td>\n",
       "    </tr>\n",
       "    <tr>\n",
       "      <th>45</th>\n",
       "      <td>1.059359</td>\n",
       "      <td>10</td>\n",
       "      <td>8</td>\n",
       "      <td>830</td>\n",
       "      <td>1134</td>\n",
       "      <td>16.047441</td>\n",
       "      <td>62</td>\n",
       "      <td>252</td>\n",
       "      <td>5641.147461</td>\n",
       "      <td>7498.874512</td>\n",
       "      <td>...</td>\n",
       "      <td>0</td>\n",
       "      <td>0</td>\n",
       "      <td>0</td>\n",
       "      <td>0</td>\n",
       "      <td>0</td>\n",
       "      <td>0</td>\n",
       "      <td>0</td>\n",
       "      <td>1</td>\n",
       "      <td>0</td>\n",
       "      <td>0</td>\n",
       "    </tr>\n",
       "    <tr>\n",
       "      <th>49</th>\n",
       "      <td>0.990548</td>\n",
       "      <td>10</td>\n",
       "      <td>10</td>\n",
       "      <td>804</td>\n",
       "      <td>1414</td>\n",
       "      <td>19.181301</td>\n",
       "      <td>62</td>\n",
       "      <td>252</td>\n",
       "      <td>5847.268066</td>\n",
       "      <td>10281.177730</td>\n",
       "      <td>...</td>\n",
       "      <td>0</td>\n",
       "      <td>0</td>\n",
       "      <td>0</td>\n",
       "      <td>0</td>\n",
       "      <td>0</td>\n",
       "      <td>0</td>\n",
       "      <td>0</td>\n",
       "      <td>1</td>\n",
       "      <td>0</td>\n",
       "      <td>0</td>\n",
       "    </tr>\n",
       "    <tr>\n",
       "      <th>72</th>\n",
       "      <td>1.303518</td>\n",
       "      <td>12</td>\n",
       "      <td>8</td>\n",
       "      <td>898</td>\n",
       "      <td>1120</td>\n",
       "      <td>14.575939</td>\n",
       "      <td>62</td>\n",
       "      <td>252</td>\n",
       "      <td>5057.083984</td>\n",
       "      <td>6014.492676</td>\n",
       "      <td>...</td>\n",
       "      <td>0</td>\n",
       "      <td>0</td>\n",
       "      <td>0</td>\n",
       "      <td>0</td>\n",
       "      <td>0</td>\n",
       "      <td>0</td>\n",
       "      <td>0</td>\n",
       "      <td>1</td>\n",
       "      <td>0</td>\n",
       "      <td>0</td>\n",
       "    </tr>\n",
       "  </tbody>\n",
       "</table>\n",
       "<p>5 rows × 58 columns</p>\n",
       "</div>"
      ],
      "text/plain": [
       "         dur  spkts  dpkts  sbytes  dbytes       rate  sttl  dttl  \\\n",
       "35  0.983874     10      8     816    1172  17.278635    62   252   \n",
       "40  1.535254     10     10     826    1266  12.375802    62   252   \n",
       "45  1.059359     10      8     830    1134  16.047441    62   252   \n",
       "49  0.990548     10     10     804    1414  19.181301    62   252   \n",
       "72  1.303518     12      8     898    1120  14.575939    62   252   \n",
       "\n",
       "          sload         dload  ...  service_radius  service_smtp  \\\n",
       "35  5976.375000   8342.531250  ...               0             0   \n",
       "40  3876.882812   5940.385254  ...               0             0   \n",
       "45  5641.147461   7498.874512  ...               0             0   \n",
       "49  5847.268066  10281.177730  ...               0             0   \n",
       "72  5057.083984   6014.492676  ...               0             0   \n",
       "\n",
       "    service_snmp  service_ssh  service_ssl  state_ACC  state_CON  state_FIN  \\\n",
       "35             0            0            0          0          0          1   \n",
       "40             0            0            0          0          0          1   \n",
       "45             0            0            0          0          0          1   \n",
       "49             0            0            0          0          0          1   \n",
       "72             0            0            0          0          0          1   \n",
       "\n",
       "    state_INT  state_REQ  \n",
       "35          0          0  \n",
       "40          0          0  \n",
       "45          0          0  \n",
       "49          0          0  \n",
       "72          0          0  \n",
       "\n",
       "[5 rows x 58 columns]"
      ]
     },
     "execution_count": 12,
     "metadata": {},
     "output_type": "execute_result"
    }
   ],
   "source": [
    "tdata= pd.get_dummies(tdata, columns=['proto', 'service','state'])\n",
    "tdata.head()"
   ]
  },
  {
   "cell_type": "code",
   "execution_count": 13,
   "metadata": {},
   "outputs": [],
   "source": [
    "xtest=tdata.iloc[:,:]"
   ]
  },
  {
   "cell_type": "code",
   "execution_count": 14,
   "metadata": {},
   "outputs": [
    {
     "data": {
      "text/plain": [
       "(35179, 58)"
      ]
     },
     "execution_count": 14,
     "metadata": {},
     "output_type": "execute_result"
    }
   ],
   "source": [
    "xtest.shape"
   ]
  },
  {
   "cell_type": "code",
   "execution_count": 15,
   "metadata": {},
   "outputs": [
    {
     "data": {
      "text/plain": [
       "(35179,)"
      ]
     },
     "execution_count": 15,
     "metadata": {},
     "output_type": "execute_result"
    }
   ],
   "source": [
    "ytest.shape"
   ]
  },
  {
   "cell_type": "markdown",
   "metadata": {},
   "source": [
    "# Using Dimensionality Reduction to select best features using Lasso Regression"
   ]
  },
  {
   "cell_type": "code",
   "execution_count": 18,
   "metadata": {},
   "outputs": [],
   "source": [
    "%matplotlib inline    \n",
    "from IPython.display import display   \n",
    "\n",
    "def report_coef(names,coef,intercept):\n",
    "    r = pd.DataFrame( { 'coef': coef, 'positive': coef>=0  }, index = names )\n",
    "    r = r.sort_values(by=['coef'])\n",
    "    display(r)\n",
    "    print(\"Intercept: {}\".format(intercept))\n",
    "    r['coef'].plot(figsize=(10,10),kind='barh', color=r['positive'].map({True: 'b', False: 'r'}))"
   ]
  },
  {
   "cell_type": "code",
   "execution_count": 19,
   "metadata": {},
   "outputs": [
    {
     "name": "stdout",
     "output_type": "stream",
     "text": [
      "Final score (RMSE): 0.30713824371524434\n"
     ]
    },
    {
     "name": "stderr",
     "output_type": "stream",
     "text": [
      "C:\\Users\\Amit\\Anaconda3\\lib\\site-packages\\sklearn\\linear_model\\coordinate_descent.py:475: ConvergenceWarning: Objective did not converge. You might want to increase the number of iterations. Duality gap: 483.9100948414464, tolerance: 1.4809324282704512\n",
      "  positive)\n"
     ]
    },
    {
     "data": {
      "text/html": [
       "<div>\n",
       "<style scoped>\n",
       "    .dataframe tbody tr th:only-of-type {\n",
       "        vertical-align: middle;\n",
       "    }\n",
       "\n",
       "    .dataframe tbody tr th {\n",
       "        vertical-align: top;\n",
       "    }\n",
       "\n",
       "    .dataframe thead th {\n",
       "        text-align: right;\n",
       "    }\n",
       "</style>\n",
       "<table border=\"1\" class=\"dataframe\">\n",
       "  <thead>\n",
       "    <tr style=\"text-align: right;\">\n",
       "      <th></th>\n",
       "      <th>coef</th>\n",
       "      <th>positive</th>\n",
       "    </tr>\n",
       "  </thead>\n",
       "  <tbody>\n",
       "    <tr>\n",
       "      <th>swin</th>\n",
       "      <td>-9.706404e-04</td>\n",
       "      <td>False</td>\n",
       "    </tr>\n",
       "    <tr>\n",
       "      <th>dinpkt</th>\n",
       "      <td>-3.520537e-05</td>\n",
       "      <td>False</td>\n",
       "    </tr>\n",
       "    <tr>\n",
       "      <th>dwin</th>\n",
       "      <td>-1.060894e-06</td>\n",
       "      <td>False</td>\n",
       "    </tr>\n",
       "    <tr>\n",
       "      <th>sjit</th>\n",
       "      <td>-8.922151e-07</td>\n",
       "      <td>False</td>\n",
       "    </tr>\n",
       "    <tr>\n",
       "      <th>dbytes</th>\n",
       "      <td>-3.323560e-07</td>\n",
       "      <td>False</td>\n",
       "    </tr>\n",
       "    <tr>\n",
       "      <th>response_body_len</th>\n",
       "      <td>-4.535372e-08</td>\n",
       "      <td>False</td>\n",
       "    </tr>\n",
       "    <tr>\n",
       "      <th>sbytes</th>\n",
       "      <td>-3.088103e-08</td>\n",
       "      <td>False</td>\n",
       "    </tr>\n",
       "    <tr>\n",
       "      <th>rate</th>\n",
       "      <td>-2.657041e-08</td>\n",
       "      <td>False</td>\n",
       "    </tr>\n",
       "    <tr>\n",
       "      <th>dload</th>\n",
       "      <td>-2.084912e-08</td>\n",
       "      <td>False</td>\n",
       "    </tr>\n",
       "    <tr>\n",
       "      <th>stcpb</th>\n",
       "      <td>-5.006883e-12</td>\n",
       "      <td>False</td>\n",
       "    </tr>\n",
       "    <tr>\n",
       "      <th>dtcpb</th>\n",
       "      <td>-1.594907e-13</td>\n",
       "      <td>False</td>\n",
       "    </tr>\n",
       "    <tr>\n",
       "      <th>is_sm_ips_ports</th>\n",
       "      <td>0.000000e+00</td>\n",
       "      <td>True</td>\n",
       "    </tr>\n",
       "    <tr>\n",
       "      <th>proto_tcp</th>\n",
       "      <td>-0.000000e+00</td>\n",
       "      <td>True</td>\n",
       "    </tr>\n",
       "    <tr>\n",
       "      <th>proto_udp</th>\n",
       "      <td>0.000000e+00</td>\n",
       "      <td>True</td>\n",
       "    </tr>\n",
       "    <tr>\n",
       "      <th>service_dhcp</th>\n",
       "      <td>0.000000e+00</td>\n",
       "      <td>True</td>\n",
       "    </tr>\n",
       "    <tr>\n",
       "      <th>service_dns</th>\n",
       "      <td>-0.000000e+00</td>\n",
       "      <td>True</td>\n",
       "    </tr>\n",
       "    <tr>\n",
       "      <th>ct_srv_dst</th>\n",
       "      <td>0.000000e+00</td>\n",
       "      <td>True</td>\n",
       "    </tr>\n",
       "    <tr>\n",
       "      <th>ct_src_ltm</th>\n",
       "      <td>-0.000000e+00</td>\n",
       "      <td>True</td>\n",
       "    </tr>\n",
       "    <tr>\n",
       "      <th>service_ftp</th>\n",
       "      <td>-0.000000e+00</td>\n",
       "      <td>True</td>\n",
       "    </tr>\n",
       "    <tr>\n",
       "      <th>service_ftp-data</th>\n",
       "      <td>0.000000e+00</td>\n",
       "      <td>True</td>\n",
       "    </tr>\n",
       "    <tr>\n",
       "      <th>service_http</th>\n",
       "      <td>-0.000000e+00</td>\n",
       "      <td>True</td>\n",
       "    </tr>\n",
       "    <tr>\n",
       "      <th>dur</th>\n",
       "      <td>0.000000e+00</td>\n",
       "      <td>True</td>\n",
       "    </tr>\n",
       "    <tr>\n",
       "      <th>ct_flw_http_mthd</th>\n",
       "      <td>-0.000000e+00</td>\n",
       "      <td>True</td>\n",
       "    </tr>\n",
       "    <tr>\n",
       "      <th>service_pop3</th>\n",
       "      <td>0.000000e+00</td>\n",
       "      <td>True</td>\n",
       "    </tr>\n",
       "    <tr>\n",
       "      <th>service_radius</th>\n",
       "      <td>0.000000e+00</td>\n",
       "      <td>True</td>\n",
       "    </tr>\n",
       "    <tr>\n",
       "      <th>service_smtp</th>\n",
       "      <td>0.000000e+00</td>\n",
       "      <td>True</td>\n",
       "    </tr>\n",
       "    <tr>\n",
       "      <th>service_snmp</th>\n",
       "      <td>0.000000e+00</td>\n",
       "      <td>True</td>\n",
       "    </tr>\n",
       "    <tr>\n",
       "      <th>service_ssh</th>\n",
       "      <td>0.000000e+00</td>\n",
       "      <td>True</td>\n",
       "    </tr>\n",
       "    <tr>\n",
       "      <th>service_ssl</th>\n",
       "      <td>-0.000000e+00</td>\n",
       "      <td>True</td>\n",
       "    </tr>\n",
       "    <tr>\n",
       "      <th>state_CON</th>\n",
       "      <td>-0.000000e+00</td>\n",
       "      <td>True</td>\n",
       "    </tr>\n",
       "    <tr>\n",
       "      <th>state_FIN</th>\n",
       "      <td>-0.000000e+00</td>\n",
       "      <td>True</td>\n",
       "    </tr>\n",
       "    <tr>\n",
       "      <th>state_INT</th>\n",
       "      <td>0.000000e+00</td>\n",
       "      <td>True</td>\n",
       "    </tr>\n",
       "    <tr>\n",
       "      <th>service_irc</th>\n",
       "      <td>0.000000e+00</td>\n",
       "      <td>True</td>\n",
       "    </tr>\n",
       "    <tr>\n",
       "      <th>ct_ftp_cmd</th>\n",
       "      <td>0.000000e+00</td>\n",
       "      <td>True</td>\n",
       "    </tr>\n",
       "    <tr>\n",
       "      <th>ct_state_ttl</th>\n",
       "      <td>0.000000e+00</td>\n",
       "      <td>True</td>\n",
       "    </tr>\n",
       "    <tr>\n",
       "      <th>tcprtt</th>\n",
       "      <td>-0.000000e+00</td>\n",
       "      <td>True</td>\n",
       "    </tr>\n",
       "    <tr>\n",
       "      <th>spkts</th>\n",
       "      <td>0.000000e+00</td>\n",
       "      <td>True</td>\n",
       "    </tr>\n",
       "    <tr>\n",
       "      <th>sloss</th>\n",
       "      <td>0.000000e+00</td>\n",
       "      <td>True</td>\n",
       "    </tr>\n",
       "    <tr>\n",
       "      <th>dloss</th>\n",
       "      <td>0.000000e+00</td>\n",
       "      <td>True</td>\n",
       "    </tr>\n",
       "    <tr>\n",
       "      <th>is_ftp_login</th>\n",
       "      <td>0.000000e+00</td>\n",
       "      <td>True</td>\n",
       "    </tr>\n",
       "    <tr>\n",
       "      <th>synack</th>\n",
       "      <td>-0.000000e+00</td>\n",
       "      <td>True</td>\n",
       "    </tr>\n",
       "    <tr>\n",
       "      <th>ackdat</th>\n",
       "      <td>0.000000e+00</td>\n",
       "      <td>True</td>\n",
       "    </tr>\n",
       "    <tr>\n",
       "      <th>state_RST</th>\n",
       "      <td>-0.000000e+00</td>\n",
       "      <td>True</td>\n",
       "    </tr>\n",
       "    <tr>\n",
       "      <th>trans_depth</th>\n",
       "      <td>-0.000000e+00</td>\n",
       "      <td>True</td>\n",
       "    </tr>\n",
       "    <tr>\n",
       "      <th>ct_srv_src</th>\n",
       "      <td>0.000000e+00</td>\n",
       "      <td>True</td>\n",
       "    </tr>\n",
       "    <tr>\n",
       "      <th>state_REQ</th>\n",
       "      <td>0.000000e+00</td>\n",
       "      <td>True</td>\n",
       "    </tr>\n",
       "    <tr>\n",
       "      <th>ct_dst_ltm</th>\n",
       "      <td>0.000000e+00</td>\n",
       "      <td>True</td>\n",
       "    </tr>\n",
       "    <tr>\n",
       "      <th>ct_src_dport_ltm</th>\n",
       "      <td>0.000000e+00</td>\n",
       "      <td>True</td>\n",
       "    </tr>\n",
       "    <tr>\n",
       "      <th>sload</th>\n",
       "      <td>6.118726e-10</td>\n",
       "      <td>True</td>\n",
       "    </tr>\n",
       "    <tr>\n",
       "      <th>djit</th>\n",
       "      <td>1.391519e-06</td>\n",
       "      <td>True</td>\n",
       "    </tr>\n",
       "    <tr>\n",
       "      <th>smean</th>\n",
       "      <td>6.462969e-05</td>\n",
       "      <td>True</td>\n",
       "    </tr>\n",
       "    <tr>\n",
       "      <th>sinpkt</th>\n",
       "      <td>1.032323e-04</td>\n",
       "      <td>True</td>\n",
       "    </tr>\n",
       "    <tr>\n",
       "      <th>dmean</th>\n",
       "      <td>2.205359e-04</td>\n",
       "      <td>True</td>\n",
       "    </tr>\n",
       "    <tr>\n",
       "      <th>dpkts</th>\n",
       "      <td>4.198104e-04</td>\n",
       "      <td>True</td>\n",
       "    </tr>\n",
       "    <tr>\n",
       "      <th>sttl</th>\n",
       "      <td>2.184772e-03</td>\n",
       "      <td>True</td>\n",
       "    </tr>\n",
       "    <tr>\n",
       "      <th>dttl</th>\n",
       "      <td>3.068606e-03</td>\n",
       "      <td>True</td>\n",
       "    </tr>\n",
       "    <tr>\n",
       "      <th>ct_dst_src_ltm</th>\n",
       "      <td>6.373592e-03</td>\n",
       "      <td>True</td>\n",
       "    </tr>\n",
       "    <tr>\n",
       "      <th>ct_dst_sport_ltm</th>\n",
       "      <td>1.176536e-02</td>\n",
       "      <td>True</td>\n",
       "    </tr>\n",
       "  </tbody>\n",
       "</table>\n",
       "</div>"
      ],
      "text/plain": [
       "                           coef  positive\n",
       "swin              -9.706404e-04     False\n",
       "dinpkt            -3.520537e-05     False\n",
       "dwin              -1.060894e-06     False\n",
       "sjit              -8.922151e-07     False\n",
       "dbytes            -3.323560e-07     False\n",
       "response_body_len -4.535372e-08     False\n",
       "sbytes            -3.088103e-08     False\n",
       "rate              -2.657041e-08     False\n",
       "dload             -2.084912e-08     False\n",
       "stcpb             -5.006883e-12     False\n",
       "dtcpb             -1.594907e-13     False\n",
       "is_sm_ips_ports    0.000000e+00      True\n",
       "proto_tcp         -0.000000e+00      True\n",
       "proto_udp          0.000000e+00      True\n",
       "service_dhcp       0.000000e+00      True\n",
       "service_dns       -0.000000e+00      True\n",
       "ct_srv_dst         0.000000e+00      True\n",
       "ct_src_ltm        -0.000000e+00      True\n",
       "service_ftp       -0.000000e+00      True\n",
       "service_ftp-data   0.000000e+00      True\n",
       "service_http      -0.000000e+00      True\n",
       "dur                0.000000e+00      True\n",
       "ct_flw_http_mthd  -0.000000e+00      True\n",
       "service_pop3       0.000000e+00      True\n",
       "service_radius     0.000000e+00      True\n",
       "service_smtp       0.000000e+00      True\n",
       "service_snmp       0.000000e+00      True\n",
       "service_ssh        0.000000e+00      True\n",
       "service_ssl       -0.000000e+00      True\n",
       "state_CON         -0.000000e+00      True\n",
       "state_FIN         -0.000000e+00      True\n",
       "state_INT          0.000000e+00      True\n",
       "service_irc        0.000000e+00      True\n",
       "ct_ftp_cmd         0.000000e+00      True\n",
       "ct_state_ttl       0.000000e+00      True\n",
       "tcprtt            -0.000000e+00      True\n",
       "spkts              0.000000e+00      True\n",
       "sloss              0.000000e+00      True\n",
       "dloss              0.000000e+00      True\n",
       "is_ftp_login       0.000000e+00      True\n",
       "synack            -0.000000e+00      True\n",
       "ackdat             0.000000e+00      True\n",
       "state_RST         -0.000000e+00      True\n",
       "trans_depth       -0.000000e+00      True\n",
       "ct_srv_src         0.000000e+00      True\n",
       "state_REQ          0.000000e+00      True\n",
       "ct_dst_ltm         0.000000e+00      True\n",
       "ct_src_dport_ltm   0.000000e+00      True\n",
       "sload              6.118726e-10      True\n",
       "djit               1.391519e-06      True\n",
       "smean              6.462969e-05      True\n",
       "sinpkt             1.032323e-04      True\n",
       "dmean              2.205359e-04      True\n",
       "dpkts              4.198104e-04      True\n",
       "sttl               2.184772e-03      True\n",
       "dttl               3.068606e-03      True\n",
       "ct_dst_src_ltm     6.373592e-03      True\n",
       "ct_dst_sport_ltm   1.176536e-02      True"
      ]
     },
     "metadata": {},
     "output_type": "display_data"
    },
    {
     "name": "stdout",
     "output_type": "stream",
     "text": [
      "Intercept: 0.018910188404361317\n"
     ]
    },
    {
     "data": {
      "image/png": "[encoded data removed]",
      "text/plain": [
       "<Figure size 720x720 with 1 Axes>"
      ]
     },
     "metadata": {
      "needs_background": "light"
     },
     "output_type": "display_data"
    }
   ],
   "source": [
    "import numpy as np\n",
    "from sklearn import metrics\n",
    "import sklearn\n",
    "from sklearn.linear_model import Lasso\n",
    "\n",
    "# Create linear regression\n",
    "regressor = Lasso(alpha=0.1)\n",
    "\n",
    "# Fit/train LASSO\n",
    "regressor.fit(xtrain,ytrain)\n",
    "# Predict\n",
    "pred = regressor.predict(xtest)\n",
    "\n",
    "# Measure RMSE error.  RMSE is common for regression.\n",
    "score = np.sqrt(metrics.mean_squared_error(pred,ytest))\n",
    "print(\"Final score (RMSE): {}\".format(score))\n",
    "\n",
    "names = list(newdata.columns.values)\n",
    "\n",
    "report_coef(\n",
    "  names,\n",
    "  regressor.coef_,\n",
    "  regressor.intercept_)"
   ]
  },
  {
   "cell_type": "code",
   "execution_count": 20,
   "metadata": {},
   "outputs": [],
   "source": [
    "newdata = newdata[['ct_dst_sport_ltm','ct_dst_src_ltm','dttl','sttl','dpkts','dmean','sinpkt','swin','dinpkt','smean']]"
   ]
  },
  {
   "cell_type": "code",
   "execution_count": 21,
   "metadata": {},
   "outputs": [
    {
     "data": {
      "text/html": [
       "<div>\n",
       "<style scoped>\n",
       "    .dataframe tbody tr th:only-of-type {\n",
       "        vertical-align: middle;\n",
       "    }\n",
       "\n",
       "    .dataframe tbody tr th {\n",
       "        vertical-align: top;\n",
       "    }\n",
       "\n",
       "    .dataframe thead th {\n",
       "        text-align: right;\n",
       "    }\n",
       "</style>\n",
       "<table border=\"1\" class=\"dataframe\">\n",
       "  <thead>\n",
       "    <tr style=\"text-align: right;\">\n",
       "      <th></th>\n",
       "      <th>ct_dst_sport_ltm</th>\n",
       "      <th>ct_dst_src_ltm</th>\n",
       "      <th>dttl</th>\n",
       "      <th>sttl</th>\n",
       "      <th>dpkts</th>\n",
       "      <th>dmean</th>\n",
       "      <th>sinpkt</th>\n",
       "      <th>swin</th>\n",
       "      <th>dinpkt</th>\n",
       "      <th>smean</th>\n",
       "    </tr>\n",
       "  </thead>\n",
       "  <tbody>\n",
       "    <tr>\n",
       "      <th>3</th>\n",
       "      <td>1</td>\n",
       "      <td>3</td>\n",
       "      <td>252</td>\n",
       "      <td>62</td>\n",
       "      <td>12</td>\n",
       "      <td>64</td>\n",
       "      <td>152.876547</td>\n",
       "      <td>255</td>\n",
       "      <td>90.235726</td>\n",
       "      <td>52</td>\n",
       "    </tr>\n",
       "    <tr>\n",
       "      <th>11</th>\n",
       "      <td>1</td>\n",
       "      <td>2</td>\n",
       "      <td>252</td>\n",
       "      <td>62</td>\n",
       "      <td>28</td>\n",
       "      <td>79</td>\n",
       "      <td>34.312868</td>\n",
       "      <td>255</td>\n",
       "      <td>75.092445</td>\n",
       "      <td>909</td>\n",
       "    </tr>\n",
       "    <tr>\n",
       "      <th>15</th>\n",
       "      <td>1</td>\n",
       "      <td>4</td>\n",
       "      <td>0</td>\n",
       "      <td>254</td>\n",
       "      <td>0</td>\n",
       "      <td>0</td>\n",
       "      <td>0.002000</td>\n",
       "      <td>0</td>\n",
       "      <td>0.000000</td>\n",
       "      <td>69</td>\n",
       "    </tr>\n",
       "    <tr>\n",
       "      <th>17</th>\n",
       "      <td>1</td>\n",
       "      <td>2</td>\n",
       "      <td>252</td>\n",
       "      <td>62</td>\n",
       "      <td>8</td>\n",
       "      <td>137</td>\n",
       "      <td>43.728444</td>\n",
       "      <td>255</td>\n",
       "      <td>47.669145</td>\n",
       "      <td>86</td>\n",
       "    </tr>\n",
       "    <tr>\n",
       "      <th>21</th>\n",
       "      <td>1</td>\n",
       "      <td>1</td>\n",
       "      <td>252</td>\n",
       "      <td>254</td>\n",
       "      <td>6</td>\n",
       "      <td>45</td>\n",
       "      <td>35.218111</td>\n",
       "      <td>255</td>\n",
       "      <td>56.579801</td>\n",
       "      <td>100</td>\n",
       "    </tr>\n",
       "  </tbody>\n",
       "</table>\n",
       "</div>"
      ],
      "text/plain": [
       "    ct_dst_sport_ltm  ct_dst_src_ltm  dttl  sttl  dpkts  dmean      sinpkt  \\\n",
       "3                  1               3   252    62     12     64  152.876547   \n",
       "11                 1               2   252    62     28     79   34.312868   \n",
       "15                 1               4     0   254      0      0    0.002000   \n",
       "17                 1               2   252    62      8    137   43.728444   \n",
       "21                 1               1   252   254      6     45   35.218111   \n",
       "\n",
       "    swin     dinpkt  smean  \n",
       "3    255  90.235726     52  \n",
       "11   255  75.092445    909  \n",
       "15     0   0.000000     69  \n",
       "17   255  47.669145     86  \n",
       "21   255  56.579801    100  "
      ]
     },
     "execution_count": 21,
     "metadata": {},
     "output_type": "execute_result"
    }
   ],
   "source": [
    "newdata.head()"
   ]
  },
  {
   "cell_type": "markdown",
   "metadata": {},
   "source": [
    "# Normalizing numeric data"
   ]
  },
  {
   "cell_type": "code",
   "execution_count": 22,
   "metadata": {},
   "outputs": [],
   "source": [
    "nor_xtrain = StandardScaler()\n",
    "x_train = nor_xtrain.fit_transform(newdata.iloc[:,:].values)"
   ]
  },
  {
   "cell_type": "code",
   "execution_count": 23,
   "metadata": {},
   "outputs": [
    {
     "data": {
      "text/plain": [
       "array([[-0.89028999, -0.79089334,  1.55459667, ...,  1.18574086,\n",
       "         0.190109  , -0.35894958],\n",
       "       [-0.89028999, -0.86525967,  1.55459667, ...,  1.18574086,\n",
       "         0.13149318,  3.68242111],\n",
       "       [-0.89028999, -0.71652701, -0.71758686, ..., -0.84335459,\n",
       "        -0.1591707 , -0.27878237],\n",
       "       ...,\n",
       "       [-0.60835901, -0.04723008, -0.71758686, ..., -0.84335459,\n",
       "        -0.1591707 , -0.33537099],\n",
       "       [ 0.94226138,  1.21699746, -0.71758686, ..., -0.84335459,\n",
       "        -0.1591707 , -0.33537099],\n",
       "       [ 1.22419236,  1.21699746, -0.71758686, ..., -0.84335459,\n",
       "        -0.1591707 , -0.33537099]])"
      ]
     },
     "execution_count": 23,
     "metadata": {},
     "output_type": "execute_result"
    }
   ],
   "source": [
    "x_train"
   ]
  },
  {
   "cell_type": "code",
   "execution_count": 24,
   "metadata": {},
   "outputs": [],
   "source": [
    "tdata = tdata[['ct_dst_sport_ltm','ct_dst_src_ltm','dttl','sttl','dpkts','dmean','sinpkt','swin','dinpkt','smean']]"
   ]
  },
  {
   "cell_type": "code",
   "execution_count": 25,
   "metadata": {},
   "outputs": [],
   "source": [
    "nor_xtest = StandardScaler()\n",
    "x_test = nor_xtest.fit_transform(tdata.iloc[:,:].values)"
   ]
  },
  {
   "cell_type": "markdown",
   "metadata": {},
   "source": [
    "# 1. LogisticRegression"
   ]
  },
  {
   "cell_type": "code",
   "execution_count": 26,
   "metadata": {},
   "outputs": [
    {
     "name": "stderr",
     "output_type": "stream",
     "text": [
      "C:\\Users\\Amit\\Anaconda3\\lib\\site-packages\\sklearn\\linear_model\\logistic.py:432: FutureWarning: Default solver will be changed to 'lbfgs' in 0.22. Specify a solver to silence this warning.\n",
      "  FutureWarning)\n"
     ]
    },
    {
     "data": {
      "text/plain": [
       "LogisticRegression(C=1.0, class_weight=None, dual=False, fit_intercept=True,\n",
       "                   intercept_scaling=1, l1_ratio=None, max_iter=100,\n",
       "                   multi_class='warn', n_jobs=None, penalty='l2',\n",
       "                   random_state=0, solver='warn', tol=0.0001, verbose=0,\n",
       "                   warm_start=False)"
      ]
     },
     "execution_count": 26,
     "metadata": {},
     "output_type": "execute_result"
    }
   ],
   "source": [
    "from sklearn.linear_model import LogisticRegression\n",
    "lclassifier = LogisticRegression(random_state = 0)\n",
    "lclassifier.fit(x_train,ytrain)"
   ]
  },
  {
   "cell_type": "code",
   "execution_count": 27,
   "metadata": {},
   "outputs": [],
   "source": [
    "ypred = lclassifier.predict(x_test)"
   ]
  },
  {
   "cell_type": "code",
   "execution_count": 28,
   "metadata": {},
   "outputs": [
    {
     "data": {
      "text/plain": [
       "array([[ 6793,  2832],\n",
       "       [   28, 25526]], dtype=int64)"
      ]
     },
     "execution_count": 28,
     "metadata": {},
     "output_type": "execute_result"
    }
   ],
   "source": [
    "from sklearn.metrics import confusion_matrix\n",
    "cm =confusion_matrix(ytest, ypred)\n",
    "cm"
   ]
  },
  {
   "cell_type": "code",
   "execution_count": 29,
   "metadata": {},
   "outputs": [
    {
     "name": "stdout",
     "output_type": "stream",
     "text": [
      "Accuracy:  0.9187014980528156\n"
     ]
    }
   ],
   "source": [
    "from sklearn.metrics import accuracy_score\n",
    "print(\"Accuracy: \", accuracy_score(ytest, ypred))"
   ]
  },
  {
   "cell_type": "code",
   "execution_count": 30,
   "metadata": {},
   "outputs": [
    {
     "name": "stdout",
     "output_type": "stream",
     "text": [
      "              precision    recall  f1-score   support\n",
      "\n",
      "           0       1.00      0.71      0.83      9625\n",
      "           1       0.90      1.00      0.95     25554\n",
      "\n",
      "    accuracy                           0.92     35179\n",
      "   macro avg       0.95      0.85      0.89     35179\n",
      "weighted avg       0.93      0.92      0.91     35179\n",
      "\n"
     ]
    }
   ],
   "source": [
    "from sklearn.metrics import classification_report\n",
    "print(classification_report(ytest, ypred))"
   ]
  },
  {
   "cell_type": "code",
   "execution_count": 31,
   "metadata": {},
   "outputs": [],
   "source": [
    "%matplotlib inline\n",
    "import matplotlib.pyplot as plt\n",
    "from sklearn.metrics import roc_curve, auc\n",
    "\n",
    "def plot_roc(pred,y):\n",
    "    fpr, tpr, thresholds = roc_curve(y, pred)\n",
    "    roc_auc = auc(fpr, tpr)\n",
    "\n",
    "    plt.figure()\n",
    "    plt.plot(fpr, tpr, label='ROC curve (area = %0.2f)' % roc_auc)\n",
    "    plt.plot([0, 1], [0, 1], 'k--')\n",
    "    plt.xlim([0.0, 1.0])\n",
    "    plt.ylim([0.0, 1.05])\n",
    "    plt.xlabel('False Positive Rate')\n",
    "    plt.ylabel('True Positive Rate')\n",
    "    plt.title('Receiver Operating Characteristic (ROC)')\n",
    "    plt.legend(loc=\"lower right\")\n",
    "    plt.show()"
   ]
  },
  {
   "cell_type": "code",
   "execution_count": 32,
   "metadata": {},
   "outputs": [
    {
     "data": {
      "image/png": "[encoded data removed]",
      "text/plain": [
       "<Figure size 432x288 with 1 Axes>"
      ]
     },
     "metadata": {
      "needs_background": "light"
     },
     "output_type": "display_data"
    }
   ],
   "source": [
    "plot_roc(ypred,ytest)"
   ]
  },
  {
   "cell_type": "code",
   "execution_count": 33,
   "metadata": {},
   "outputs": [
    {
     "data": {
      "image/png": "[encoded data removed]",
      "text/plain": [
       "<Figure size 432x288 with 2 Axes>"
      ]
     },
     "metadata": {
      "needs_background": "light"
     },
     "output_type": "display_data"
    }
   ],
   "source": [
    "import seaborn as sns\n",
    "import matplotlib.pyplot as plt     \n",
    "\n",
    "ax= plt.subplot()\n",
    "sns.heatmap(cm, annot=True, ax = ax); #annot=True to annotate cells\n",
    "\n",
    "# labels, title and ticks\n",
    "ax.set_xlabel('Predicted labels');ax.set_ylabel('True labels'); \n",
    "ax.set_title('Confusion Matrix'); \n",
    "ax.set_xticklabels(['normal', 'attack']); ax.set_yticklabels(['normal', 'attack']);"
   ]
  },
  {
   "cell_type": "markdown",
   "metadata": {},
   "source": [
    "# 2. KNN"
   ]
  },
  {
   "cell_type": "code",
   "execution_count": 34,
   "metadata": {},
   "outputs": [
    {
     "data": {
      "text/plain": [
       "KNeighborsClassifier(algorithm='auto', leaf_size=30, metric='minkowski',\n",
       "                     metric_params=None, n_jobs=None, n_neighbors=3, p=2,\n",
       "                     weights='uniform')"
      ]
     },
     "execution_count": 34,
     "metadata": {},
     "output_type": "execute_result"
    }
   ],
   "source": [
    "from sklearn.neighbors import KNeighborsClassifier\n",
    "kclassifier = KNeighborsClassifier(n_neighbors=3, metric= 'minkowski', p=2)\n",
    "kclassifier.fit(x_train,ytrain)"
   ]
  },
  {
   "cell_type": "code",
   "execution_count": 35,
   "metadata": {},
   "outputs": [],
   "source": [
    "ypred = kclassifier.predict(x_test)"
   ]
  },
  {
   "cell_type": "code",
   "execution_count": 36,
   "metadata": {},
   "outputs": [
    {
     "data": {
      "text/plain": [
       "array([[ 7857,  1768],\n",
       "       [  744, 24810]], dtype=int64)"
      ]
     },
     "execution_count": 36,
     "metadata": {},
     "output_type": "execute_result"
    }
   ],
   "source": [
    "#Confusion Matrix\n",
    "from sklearn.metrics import confusion_matrix\n",
    "cm =confusion_matrix(ytest, ypred)\n",
    "cm"
   ]
  },
  {
   "cell_type": "code",
   "execution_count": 37,
   "metadata": {},
   "outputs": [
    {
     "name": "stdout",
     "output_type": "stream",
     "text": [
      "Accuracy:  0.9285937633247108\n"
     ]
    }
   ],
   "source": [
    "from sklearn.metrics import accuracy_score\n",
    "print(\"Accuracy: \", accuracy_score(ytest, ypred))"
   ]
  },
  {
   "cell_type": "code",
   "execution_count": 38,
   "metadata": {},
   "outputs": [
    {
     "name": "stdout",
     "output_type": "stream",
     "text": [
      "              precision    recall  f1-score   support\n",
      "\n",
      "           0       0.91      0.82      0.86      9625\n",
      "           1       0.93      0.97      0.95     25554\n",
      "\n",
      "    accuracy                           0.93     35179\n",
      "   macro avg       0.92      0.89      0.91     35179\n",
      "weighted avg       0.93      0.93      0.93     35179\n",
      "\n"
     ]
    }
   ],
   "source": [
    "from sklearn.metrics import classification_report\n",
    "print(classification_report(ytest, ypred))"
   ]
  },
  {
   "cell_type": "code",
   "execution_count": 39,
   "metadata": {},
   "outputs": [],
   "source": [
    "%matplotlib inline\n",
    "import matplotlib.pyplot as plt\n",
    "from sklearn.metrics import roc_curve, auc\n",
    "\n",
    "def plot_roc(pred,y):\n",
    "    fpr, tpr, thresholds = roc_curve(y, pred)\n",
    "    roc_auc = auc(fpr, tpr)\n",
    "\n",
    "    plt.figure()\n",
    "    plt.plot(fpr, tpr, label='ROC curve (area = %0.2f)' % roc_auc)\n",
    "    plt.plot([0, 1], [0, 1], 'k--')\n",
    "    plt.xlim([0.0, 1.0])\n",
    "    plt.ylim([0.0, 1.05])\n",
    "    plt.xlabel('False Positive Rate')\n",
    "    plt.ylabel('True Positive Rate')\n",
    "    plt.title('Receiver Operating Characteristic (ROC)')\n",
    "    plt.legend(loc=\"lower right\")\n",
    "    plt.show()"
   ]
  },
  {
   "cell_type": "code",
   "execution_count": 40,
   "metadata": {},
   "outputs": [
    {
     "data": {
      "image/png": "[encoded data removed]",
      "text/plain": [
       "<Figure size 432x288 with 1 Axes>"
      ]
     },
     "metadata": {
      "needs_background": "light"
     },
     "output_type": "display_data"
    }
   ],
   "source": [
    "plot_roc(ypred,ytest)"
   ]
  },
  {
   "cell_type": "code",
   "execution_count": 41,
   "metadata": {},
   "outputs": [
    {
     "data": {
      "image/png": "[encoded data removed]",
      "text/plain": [
       "<Figure size 432x288 with 2 Axes>"
      ]
     },
     "metadata": {
      "needs_background": "light"
     },
     "output_type": "display_data"
    }
   ],
   "source": [
    "import seaborn as sns\n",
    "import matplotlib.pyplot as plt     \n",
    "\n",
    "ax= plt.subplot()\n",
    "sns.heatmap(cm, annot=True, ax = ax); #annot=True to annotate cells\n",
    "\n",
    "# labels, title and ticks\n",
    "ax.set_xlabel('Predicted labels');ax.set_ylabel('True labels'); \n",
    "ax.set_title('Confusion Matrix'); \n",
    "ax.set_xticklabels(['normal', 'attack']); ax.set_yticklabels(['normal', 'attack']);"
   ]
  },
  {
   "cell_type": "markdown",
   "metadata": {},
   "source": [
    "# 3. Support Vector Machine"
   ]
  },
  {
   "cell_type": "code",
   "execution_count": 42,
   "metadata": {},
   "outputs": [],
   "source": [
    "from sklearn.svm import SVC\n",
    "sclassifier = SVC(kernel='rbf', random_state=0, gamma=1, C=1000)"
   ]
  },
  {
   "cell_type": "code",
   "execution_count": 43,
   "metadata": {},
   "outputs": [
    {
     "data": {
      "text/plain": [
       "SVC(C=1000, cache_size=200, class_weight=None, coef0=0.0,\n",
       "    decision_function_shape='ovr', degree=3, gamma=1, kernel='rbf', max_iter=-1,\n",
       "    probability=False, random_state=0, shrinking=True, tol=0.001,\n",
       "    verbose=False)"
      ]
     },
     "execution_count": 43,
     "metadata": {},
     "output_type": "execute_result"
    }
   ],
   "source": [
    "sclassifier.fit(x_train,ytrain)"
   ]
  },
  {
   "cell_type": "code",
   "execution_count": 44,
   "metadata": {},
   "outputs": [],
   "source": [
    "ypred = sclassifier.predict(x_test)"
   ]
  },
  {
   "cell_type": "code",
   "execution_count": 45,
   "metadata": {},
   "outputs": [
    {
     "data": {
      "text/plain": [
       "array([[ 7624,  2001],\n",
       "       [  641, 24913]], dtype=int64)"
      ]
     },
     "execution_count": 45,
     "metadata": {},
     "output_type": "execute_result"
    }
   ],
   "source": [
    "#Confusion Matrix\n",
    "from sklearn.metrics import confusion_matrix\n",
    "cm =confusion_matrix(ytest, ypred)\n",
    "cm"
   ]
  },
  {
   "cell_type": "code",
   "execution_count": 46,
   "metadata": {},
   "outputs": [
    {
     "name": "stdout",
     "output_type": "stream",
     "text": [
      "Accuracy:  0.924898376872566\n"
     ]
    }
   ],
   "source": [
    "from sklearn.metrics import accuracy_score\n",
    "print(\"Accuracy: \", accuracy_score(ytest, ypred))"
   ]
  },
  {
   "cell_type": "code",
   "execution_count": 47,
   "metadata": {},
   "outputs": [],
   "source": [
    "from sklearn.metrics import classification_report"
   ]
  },
  {
   "cell_type": "code",
   "execution_count": 48,
   "metadata": {},
   "outputs": [
    {
     "name": "stdout",
     "output_type": "stream",
     "text": [
      "              precision    recall  f1-score   support\n",
      "\n",
      "           0       0.92      0.79      0.85      9625\n",
      "           1       0.93      0.97      0.95     25554\n",
      "\n",
      "    accuracy                           0.92     35179\n",
      "   macro avg       0.92      0.88      0.90     35179\n",
      "weighted avg       0.92      0.92      0.92     35179\n",
      "\n"
     ]
    }
   ],
   "source": [
    "print(classification_report(ytest, ypred))"
   ]
  },
  {
   "cell_type": "code",
   "execution_count": 49,
   "metadata": {},
   "outputs": [],
   "source": [
    "%matplotlib inline\n",
    "import matplotlib.pyplot as plt\n",
    "from sklearn.metrics import roc_curve, auc\n",
    "\n",
    "def plot_roc(pred,y):\n",
    "    fpr, tpr, thresholds = roc_curve(y, pred)\n",
    "    roc_auc = auc(fpr, tpr)\n",
    "\n",
    "    plt.figure()\n",
    "    plt.plot(fpr, tpr, label='ROC curve (area = %0.2f)' % roc_auc)\n",
    "    plt.plot([0, 1], [0, 1], 'k--')\n",
    "    plt.xlim([0.0, 1.0])\n",
    "    plt.ylim([0.0, 1.05])\n",
    "    plt.xlabel('False Positive Rate')\n",
    "    plt.ylabel('True Positive Rate')\n",
    "    plt.title('Receiver Operating Characteristic (ROC)')\n",
    "    plt.legend(loc=\"lower right\")\n",
    "    plt.show()"
   ]
  },
  {
   "cell_type": "code",
   "execution_count": 50,
   "metadata": {},
   "outputs": [
    {
     "data": {
      "image/png": "[encoded data removed]",
      "text/plain": [
       "<Figure size 432x288 with 1 Axes>"
      ]
     },
     "metadata": {
      "needs_background": "light"
     },
     "output_type": "display_data"
    }
   ],
   "source": [
    "plot_roc(ypred,ytest)"
   ]
  },
  {
   "cell_type": "code",
   "execution_count": 51,
   "metadata": {},
   "outputs": [
    {
     "data": {
      "image/png": "[encoded data removed]",
      "text/plain": [
       "<Figure size 432x288 with 2 Axes>"
      ]
     },
     "metadata": {
      "needs_background": "light"
     },
     "output_type": "display_data"
    }
   ],
   "source": [
    "import seaborn as sns\n",
    "import matplotlib.pyplot as plt     \n",
    "\n",
    "ax= plt.subplot()\n",
    "sns.heatmap(cm, annot=True, ax = ax); #annot=True to annotate cells\n",
    "\n",
    "# labels, title and ticks\n",
    "ax.set_xlabel('Predicted labels');ax.set_ylabel('True labels'); \n",
    "ax.set_title('Confusion Matrix'); \n",
    "ax.set_xticklabels(['normal', 'attack']); ax.set_yticklabels(['normal', 'attack']);"
   ]
  },
  {
   "cell_type": "markdown",
   "metadata": {},
   "source": [
    "# 4. Fully Connected Neural Networks using Tensorflow"
   ]
  },
  {
   "cell_type": "code",
   "execution_count": 52,
   "metadata": {},
   "outputs": [],
   "source": [
    "from sklearn import metrics\n",
    "from sklearn.preprocessing import OneHotEncoder\n",
    "from sklearn.preprocessing import StandardScaler\n",
    "\n",
    "from tensorflow.keras.models import Sequential\n",
    "from tensorflow.keras.layers import Dense, Activation\n",
    "from tensorflow.keras.callbacks import EarlyStopping\n",
    "from tensorflow.keras.callbacks import ModelCheckpoint"
   ]
  },
  {
   "cell_type": "code",
   "execution_count": 53,
   "metadata": {},
   "outputs": [
    {
     "name": "stderr",
     "output_type": "stream",
     "text": [
      "WARNING: Logging before flag parsing goes to stderr.\n",
      "W0925 13:02:38.241395 14076 deprecation.py:506] From C:\\Users\\Amit\\Anaconda3\\lib\\site-packages\\tensorflow\\python\\ops\\init_ops.py:1251: calling VarianceScaling.__init__ (from tensorflow.python.ops.init_ops) with dtype is deprecated and will be removed in a future version.\n",
      "Instructions for updating:\n",
      "Call initializer instance with the dtype argument instead of passing it to the constructor\n",
      "W0925 13:02:38.453483 14076 deprecation.py:323] From C:\\Users\\Amit\\Anaconda3\\lib\\site-packages\\tensorflow\\python\\ops\\nn_impl.py:180: add_dispatch_support.<locals>.wrapper (from tensorflow.python.ops.array_ops) is deprecated and will be removed in a future version.\n",
      "Instructions for updating:\n",
      "Use tf.where in 2.0, which has the same broadcast rule as np.where\n"
     ]
    }
   ],
   "source": [
    "model = Sequential()\n",
    "#All 4 neural network models have 4 layers and 21 neurons\n",
    "#activations using Relu, and sigmoid and optimizer is Adam\n",
    "\n",
    "model.add(Dense(5, input_dim = 10,activation='relu')) #hidden 1\n",
    "model.add(Dense(5, activation='relu'))#hidden 2\n",
    "model.add(Dense(1, activation='sigmoid'))\n",
    "model.compile(loss='binary_crossentropy', optimizer='adam', metrics = ['accuracy'])\n",
    "monitor = EarlyStopping(monitor='val_loss', min_delta=1e-3, patience=5, verbose=1, mode='auto')\n",
    "checkpointer = ModelCheckpoint(filepath=\"C:\\\\Users\\\\Amit\\\\Desktop\\\\UNSW_NB15_training-set_csc215.csv\", verbose=0, save_best_only=True)"
   ]
  },
  {
   "cell_type": "code",
   "execution_count": 55,
   "metadata": {},
   "outputs": [
    {
     "name": "stdout",
     "output_type": "stream",
     "text": [
      "Train on 81173 samples, validate on 35179 samples\n",
      "Epoch 1/1000\n",
      "81173/81173 - 3s - loss: 0.0564 - acc: 0.9785 - val_loss: 0.1300 - val_acc: 0.9199\n",
      "Epoch 2/1000\n",
      "81173/81173 - 4s - loss: 0.0561 - acc: 0.9785 - val_loss: 0.1228 - val_acc: 0.9290\n",
      "Epoch 3/1000\n",
      "81173/81173 - 3s - loss: 0.0560 - acc: 0.9784 - val_loss: 0.1284 - val_acc: 0.9317\n",
      "Epoch 4/1000\n",
      "81173/81173 - 3s - loss: 0.0556 - acc: 0.9786 - val_loss: 0.1207 - val_acc: 0.9393\n",
      "Epoch 5/1000\n",
      "81173/81173 - 3s - loss: 0.0557 - acc: 0.9785 - val_loss: 0.1264 - val_acc: 0.9219\n",
      "Epoch 6/1000\n",
      "81173/81173 - 4s - loss: 0.0555 - acc: 0.9786 - val_loss: 0.1249 - val_acc: 0.9310\n",
      "Epoch 7/1000\n",
      "81173/81173 - 4s - loss: 0.0552 - acc: 0.9788 - val_loss: 0.1302 - val_acc: 0.9250\n",
      "Epoch 8/1000\n",
      "81173/81173 - 3s - loss: 0.0550 - acc: 0.9786 - val_loss: 0.1237 - val_acc: 0.9393\n",
      "Epoch 9/1000\n",
      "81173/81173 - 3s - loss: 0.0547 - acc: 0.9789 - val_loss: 0.1321 - val_acc: 0.9228\n",
      "Epoch 00009: early stopping\n"
     ]
    },
    {
     "data": {
      "text/plain": [
       "<tensorflow.python.keras.callbacks.History at 0x2896a567550>"
      ]
     },
     "execution_count": 55,
     "metadata": {},
     "output_type": "execute_result"
    }
   ],
   "source": [
    "import os\n",
    "model.fit(x_train, ytrain,validation_data=(x_test,ytest),callbacks=[monitor,checkpointer],verbose=2,epochs=1000)"
   ]
  },
  {
   "cell_type": "code",
   "execution_count": 56,
   "metadata": {},
   "outputs": [],
   "source": [
    "pred = model.predict(x_test)"
   ]
  },
  {
   "cell_type": "code",
   "execution_count": 57,
   "metadata": {},
   "outputs": [
    {
     "data": {
      "text/plain": [
       "array([[ 6994,  2631],\n",
       "       [   86, 25468]], dtype=int64)"
      ]
     },
     "execution_count": 57,
     "metadata": {},
     "output_type": "execute_result"
    }
   ],
   "source": [
    "from sklearn.metrics import confusion_matrix\n",
    "cm =confusion_matrix(ytest, pred.round())\n",
    "cm"
   ]
  },
  {
   "cell_type": "code",
   "execution_count": 58,
   "metadata": {},
   "outputs": [
    {
     "name": "stdout",
     "output_type": "stream",
     "text": [
      "Accuracy:  0.9227664231501749\n"
     ]
    }
   ],
   "source": [
    "from sklearn.metrics import accuracy_score\n",
    "print(\"Accuracy: \", accuracy_score(ytest, pred.round()))"
   ]
  },
  {
   "cell_type": "code",
   "execution_count": 59,
   "metadata": {},
   "outputs": [
    {
     "name": "stdout",
     "output_type": "stream",
     "text": [
      "              precision    recall  f1-score   support\n",
      "\n",
      "           0       0.99      0.73      0.84      9625\n",
      "           1       0.91      1.00      0.95     25554\n",
      "\n",
      "    accuracy                           0.92     35179\n",
      "   macro avg       0.95      0.86      0.89     35179\n",
      "weighted avg       0.93      0.92      0.92     35179\n",
      "\n"
     ]
    }
   ],
   "source": [
    "from sklearn.metrics import classification_report\n",
    "print(classification_report(ytest, pred.round()))"
   ]
  },
  {
   "cell_type": "code",
   "execution_count": 60,
   "metadata": {},
   "outputs": [],
   "source": [
    "import matplotlib.pyplot as plt\n",
    "from sklearn.metrics import roc_curve, auc\n",
    "\n",
    "def plot_roc(pred,y):\n",
    "    fpr, tpr, thresholds = roc_curve(y, pred)\n",
    "    roc_auc = auc(fpr, tpr)\n",
    "\n",
    "    plt.figure()\n",
    "    plt.plot(fpr, tpr, label='ROC curve (area = %0.2f)' % roc_auc)\n",
    "    plt.plot([0, 1], [0, 1], 'k--')\n",
    "    plt.xlim([0.0, 1.0])\n",
    "    plt.ylim([0.0, 1.05])\n",
    "    plt.xlabel('False Positive Rate')\n",
    "    plt.ylabel('True Positive Rate')\n",
    "    plt.title('Receiver Operating Characteristic (ROC)')\n",
    "    plt.legend(loc=\"lower right\")\n",
    "    plt.show()"
   ]
  },
  {
   "cell_type": "code",
   "execution_count": 61,
   "metadata": {},
   "outputs": [
    {
     "data": {
      "image/png": "[encoded data removed]",
      "text/plain": [
       "<Figure size 432x288 with 1 Axes>"
      ]
     },
     "metadata": {
      "needs_background": "light"
     },
     "output_type": "display_data"
    }
   ],
   "source": [
    " plot_roc(pred,ytest)"
   ]
  },
  {
   "cell_type": "code",
   "execution_count": 62,
   "metadata": {},
   "outputs": [
    {
     "data": {
      "image/png": "[encoded data removed]",
      "text/plain": [
       "<Figure size 432x288 with 2 Axes>"
      ]
     },
     "metadata": {
      "needs_background": "light"
     },
     "output_type": "display_data"
    }
   ],
   "source": [
    "import seaborn as sns\n",
    "import matplotlib.pyplot as plt     \n",
    "\n",
    "ax= plt.subplot()\n",
    "sns.heatmap(cm, annot=True, ax = ax); #annot=True to annotate cells\n",
    "\n",
    "# labels, title and ticks\n",
    "ax.set_xlabel('Predicted labels');ax.set_ylabel('True labels'); \n",
    "ax.set_title('Confusion Matrix'); \n",
    "ax.set_xticklabels(['normal', 'attack']); ax.set_yticklabels(['normal', 'attack']);"
   ]
  },
  {
   "cell_type": "code",
   "execution_count": 63,
   "metadata": {},
   "outputs": [
    {
     "name": "stdout",
     "output_type": "stream",
     "text": [
      "Train on 81173 samples, validate on 35179 samples\n",
      "Epoch 1/1000\n",
      "81173/81173 - 4s - loss: 0.1781 - acc: 0.9559 - val_loss: 0.2546 - val_acc: 0.9194\n",
      "Epoch 2/1000\n",
      "81173/81173 - 3s - loss: 0.0997 - acc: 0.9768 - val_loss: 0.2390 - val_acc: 0.9194\n",
      "Epoch 3/1000\n",
      "81173/81173 - 3s - loss: 0.0939 - acc: 0.9773 - val_loss: 0.2418 - val_acc: 0.9194\n",
      "Epoch 4/1000\n",
      "81173/81173 - 3s - loss: 0.0910 - acc: 0.9773 - val_loss: 0.2300 - val_acc: 0.9195\n",
      "Epoch 5/1000\n",
      "81173/81173 - 3s - loss: 0.0883 - acc: 0.9773 - val_loss: 0.2265 - val_acc: 0.9195\n",
      "Epoch 6/1000\n",
      "81173/81173 - 3s - loss: 0.0858 - acc: 0.9774 - val_loss: 0.2158 - val_acc: 0.9195\n",
      "Epoch 7/1000\n",
      "81173/81173 - 3s - loss: 0.0836 - acc: 0.9774 - val_loss: 0.2045 - val_acc: 0.9196\n",
      "Epoch 8/1000\n",
      "81173/81173 - 3s - loss: 0.0820 - acc: 0.9774 - val_loss: 0.1981 - val_acc: 0.9196\n",
      "Epoch 9/1000\n",
      "81173/81173 - 3s - loss: 0.0808 - acc: 0.9775 - val_loss: 0.1964 - val_acc: 0.9196\n",
      "Epoch 10/1000\n",
      "81173/81173 - 3s - loss: 0.0798 - acc: 0.9775 - val_loss: 0.1964 - val_acc: 0.9196\n",
      "Epoch 11/1000\n",
      "81173/81173 - 3s - loss: 0.0789 - acc: 0.9775 - val_loss: 0.1945 - val_acc: 0.9196\n",
      "Epoch 12/1000\n",
      "81173/81173 - 3s - loss: 0.0781 - acc: 0.9775 - val_loss: 0.1910 - val_acc: 0.9196\n",
      "Epoch 13/1000\n",
      "81173/81173 - 3s - loss: 0.0772 - acc: 0.9775 - val_loss: 0.1853 - val_acc: 0.9196\n",
      "Epoch 14/1000\n",
      "81173/81173 - 3s - loss: 0.0764 - acc: 0.9775 - val_loss: 0.1782 - val_acc: 0.9196\n",
      "Epoch 15/1000\n",
      "81173/81173 - 3s - loss: 0.0756 - acc: 0.9775 - val_loss: 0.1771 - val_acc: 0.9196\n",
      "Epoch 16/1000\n",
      "81173/81173 - 3s - loss: 0.0749 - acc: 0.9773 - val_loss: 0.1710 - val_acc: 0.9196\n",
      "Epoch 17/1000\n",
      "81173/81173 - 3s - loss: 0.0741 - acc: 0.9772 - val_loss: 0.1688 - val_acc: 0.9196\n",
      "Epoch 18/1000\n",
      "81173/81173 - 3s - loss: 0.0733 - acc: 0.9772 - val_loss: 0.1661 - val_acc: 0.9195\n",
      "Epoch 19/1000\n",
      "81173/81173 - 3s - loss: 0.0725 - acc: 0.9770 - val_loss: 0.1627 - val_acc: 0.9194\n",
      "Epoch 20/1000\n",
      "81173/81173 - 3s - loss: 0.0716 - acc: 0.9770 - val_loss: 0.1605 - val_acc: 0.9194\n",
      "Epoch 21/1000\n",
      "81173/81173 - 3s - loss: 0.0706 - acc: 0.9769 - val_loss: 0.1460 - val_acc: 0.9194\n",
      "Epoch 22/1000\n",
      "81173/81173 - 3s - loss: 0.0696 - acc: 0.9769 - val_loss: 0.1503 - val_acc: 0.9194\n",
      "Epoch 23/1000\n",
      "81173/81173 - 3s - loss: 0.0687 - acc: 0.9768 - val_loss: 0.1510 - val_acc: 0.9194\n",
      "Epoch 24/1000\n",
      "81173/81173 - 3s - loss: 0.0677 - acc: 0.9768 - val_loss: 0.1428 - val_acc: 0.9198\n",
      "Epoch 25/1000\n",
      "81173/81173 - 3s - loss: 0.0669 - acc: 0.9768 - val_loss: 0.1325 - val_acc: 0.9222\n",
      "Epoch 26/1000\n",
      "81173/81173 - 3s - loss: 0.0662 - acc: 0.9768 - val_loss: 0.1420 - val_acc: 0.9198\n",
      "Epoch 27/1000\n",
      "81173/81173 - 3s - loss: 0.0654 - acc: 0.9769 - val_loss: 0.1334 - val_acc: 0.9213\n",
      "Epoch 28/1000\n",
      "81173/81173 - 3s - loss: 0.0647 - acc: 0.9770 - val_loss: 0.1350 - val_acc: 0.9204\n",
      "Epoch 29/1000\n",
      "81173/81173 - 3s - loss: 0.0640 - acc: 0.9772 - val_loss: 0.1223 - val_acc: 0.9303\n",
      "Epoch 30/1000\n",
      "81173/81173 - 3s - loss: 0.0634 - acc: 0.9773 - val_loss: 0.1280 - val_acc: 0.9220\n",
      "Epoch 31/1000\n",
      "81173/81173 - 3s - loss: 0.0627 - acc: 0.9774 - val_loss: 0.1232 - val_acc: 0.9262\n",
      "Epoch 32/1000\n",
      "81173/81173 - 3s - loss: 0.0621 - acc: 0.9776 - val_loss: 0.1264 - val_acc: 0.9233\n",
      "Epoch 33/1000\n",
      "81173/81173 - 3s - loss: 0.0616 - acc: 0.9776 - val_loss: 0.1145 - val_acc: 0.9504\n",
      "Epoch 34/1000\n",
      "81173/81173 - 4s - loss: 0.0610 - acc: 0.9779 - val_loss: 0.1105 - val_acc: 0.9631\n",
      "Epoch 35/1000\n",
      "81173/81173 - 3s - loss: 0.0606 - acc: 0.9780 - val_loss: 0.1237 - val_acc: 0.9249\n",
      "Epoch 36/1000\n",
      "81173/81173 - 3s - loss: 0.0602 - acc: 0.9779 - val_loss: 0.1132 - val_acc: 0.9443\n",
      "Epoch 37/1000\n",
      "81173/81173 - 3s - loss: 0.0596 - acc: 0.9782 - val_loss: 0.1094 - val_acc: 0.9514\n",
      "Epoch 38/1000\n",
      "81173/81173 - 3s - loss: 0.0592 - acc: 0.9781 - val_loss: 0.1076 - val_acc: 0.9561\n",
      "Epoch 39/1000\n",
      "81173/81173 - 4s - loss: 0.0587 - acc: 0.9780 - val_loss: 0.1078 - val_acc: 0.9578\n",
      "Epoch 40/1000\n",
      "81173/81173 - 3s - loss: 0.0583 - acc: 0.9783 - val_loss: 0.1106 - val_acc: 0.9421\n",
      "Epoch 41/1000\n",
      "81173/81173 - 3s - loss: 0.0579 - acc: 0.9785 - val_loss: 0.1039 - val_acc: 0.9675\n",
      "Epoch 42/1000\n",
      "81173/81173 - 3s - loss: 0.0574 - acc: 0.9784 - val_loss: 0.1048 - val_acc: 0.9586\n",
      "Epoch 43/1000\n",
      "81173/81173 - 3s - loss: 0.0570 - acc: 0.9786 - val_loss: 0.1059 - val_acc: 0.9524\n",
      "Epoch 44/1000\n",
      "81173/81173 - 3s - loss: 0.0566 - acc: 0.9786 - val_loss: 0.1096 - val_acc: 0.9413\n",
      "Epoch 45/1000\n",
      "81173/81173 - 3s - loss: 0.0563 - acc: 0.9785 - val_loss: 0.1002 - val_acc: 0.9650\n",
      "Epoch 46/1000\n",
      "81173/81173 - 3s - loss: 0.0560 - acc: 0.9787 - val_loss: 0.1060 - val_acc: 0.9447\n",
      "Epoch 47/1000\n",
      "81173/81173 - 3s - loss: 0.0555 - acc: 0.9788 - val_loss: 0.0994 - val_acc: 0.9624\n",
      "Epoch 48/1000\n",
      "81173/81173 - 3s - loss: 0.0552 - acc: 0.9788 - val_loss: 0.1043 - val_acc: 0.9526\n",
      "Epoch 49/1000\n",
      "81173/81173 - 3s - loss: 0.0548 - acc: 0.9787 - val_loss: 0.1081 - val_acc: 0.9378\n",
      "Epoch 50/1000\n",
      "81173/81173 - 3s - loss: 0.0545 - acc: 0.9789 - val_loss: 0.0958 - val_acc: 0.9653\n",
      "Epoch 51/1000\n",
      "81173/81173 - 3s - loss: 0.0541 - acc: 0.9789 - val_loss: 0.1012 - val_acc: 0.9584\n",
      "Epoch 52/1000\n",
      "81173/81173 - 3s - loss: 0.0538 - acc: 0.9789 - val_loss: 0.1040 - val_acc: 0.9463\n",
      "Epoch 53/1000\n",
      "81173/81173 - 3s - loss: 0.0536 - acc: 0.9790 - val_loss: 0.0974 - val_acc: 0.9621\n",
      "Epoch 54/1000\n",
      "81173/81173 - 3s - loss: 0.0532 - acc: 0.9791 - val_loss: 0.0936 - val_acc: 0.9639\n",
      "Epoch 55/1000\n",
      "81173/81173 - 4s - loss: 0.0529 - acc: 0.9793 - val_loss: 0.0994 - val_acc: 0.9556\n",
      "Epoch 56/1000\n",
      "81173/81173 - 4s - loss: 0.0526 - acc: 0.9789 - val_loss: 0.0955 - val_acc: 0.9601\n",
      "Epoch 57/1000\n",
      "81173/81173 - 4s - loss: 0.0522 - acc: 0.9793 - val_loss: 0.0964 - val_acc: 0.9601\n",
      "Epoch 58/1000\n",
      "81173/81173 - 3s - loss: 0.0519 - acc: 0.9791 - val_loss: 0.1141 - val_acc: 0.9323\n",
      "Epoch 59/1000\n",
      "81173/81173 - 4s - loss: 0.0518 - acc: 0.9794 - val_loss: 0.1289 - val_acc: 0.9227\n",
      "Epoch 00059: early stopping\n"
     ]
    },
    {
     "data": {
      "text/plain": [
       "<tensorflow.python.keras.callbacks.History at 0x2897f3a3e48>"
      ]
     },
     "execution_count": 63,
     "metadata": {},
     "output_type": "execute_result"
    }
   ],
   "source": [
    "#using tanh and sigmoid and optimizer = sgd\n",
    "model2 = Sequential()\n",
    "model2.add(Dense(5, input_dim = 10,activation='tanh'))\n",
    "model2.add(Dense(5, activation='tanh'))\n",
    "model2.add(Dense(1, activation='sigmoid'))\n",
    "\n",
    "model2.compile(loss='binary_crossentropy', optimizer='sgd', metrics = ['accuracy'])\n",
    "model2.compile(loss='binary_crossentropy', optimizer='sgd', metrics = ['accuracy'])\n",
    "monitor = EarlyStopping(monitor='val_loss', min_delta=1e-3, patience=5, verbose=1, mode='auto')\n",
    "checkpointer = ModelCheckpoint(filepath=\"C:\\\\Users\\\\Amit\\\\Desktop\\\\UNSW_NB15_training-set_csc215.csv\", verbose=0, save_best_only=True)\n",
    "model2.fit(x_train, ytrain,validation_data=(x_test,ytest),callbacks=[monitor,checkpointer],verbose=2,epochs=1000)"
   ]
  },
  {
   "cell_type": "code",
   "execution_count": 65,
   "metadata": {},
   "outputs": [],
   "source": [
    "pred2 = model2.predict(x_test)"
   ]
  },
  {
   "cell_type": "code",
   "execution_count": 66,
   "metadata": {},
   "outputs": [
    {
     "data": {
      "text/plain": [
       "array([[ 6920,  2705],\n",
       "       [   14, 25540]], dtype=int64)"
      ]
     },
     "execution_count": 66,
     "metadata": {},
     "output_type": "execute_result"
    }
   ],
   "source": [
    "from sklearn.metrics import confusion_matrix\n",
    "cm =confusion_matrix(ytest, pred2.round())\n",
    "cm"
   ]
  },
  {
   "cell_type": "code",
   "execution_count": 67,
   "metadata": {},
   "outputs": [
    {
     "name": "stdout",
     "output_type": "stream",
     "text": [
      "Accuracy:  0.922709571050911\n"
     ]
    }
   ],
   "source": [
    "from sklearn.metrics import accuracy_score\n",
    "print(\"Accuracy: \", accuracy_score(ytest, pred2.round()))"
   ]
  },
  {
   "cell_type": "code",
   "execution_count": 68,
   "metadata": {},
   "outputs": [
    {
     "name": "stdout",
     "output_type": "stream",
     "text": [
      "              precision    recall  f1-score   support\n",
      "\n",
      "           0       1.00      0.72      0.84      9625\n",
      "           1       0.90      1.00      0.95     25554\n",
      "\n",
      "    accuracy                           0.92     35179\n",
      "   macro avg       0.95      0.86      0.89     35179\n",
      "weighted avg       0.93      0.92      0.92     35179\n",
      "\n"
     ]
    }
   ],
   "source": [
    "from sklearn.metrics import classification_report\n",
    "print(classification_report(ytest, pred2.round()))"
   ]
  },
  {
   "cell_type": "code",
   "execution_count": 69,
   "metadata": {},
   "outputs": [],
   "source": [
    "%matplotlib inline\n",
    "import matplotlib.pyplot as plt\n",
    "from sklearn.metrics import roc_curve, auc\n",
    "\n",
    "def plot_roc(pred,y):\n",
    "    fpr, tpr, thresholds = roc_curve(y, pred)\n",
    "    roc_auc = auc(fpr, tpr)\n",
    "\n",
    "    plt.figure()\n",
    "    plt.plot(fpr, tpr, label='ROC curve (area = %0.2f)' % roc_auc)\n",
    "    plt.plot([0, 1], [0, 1], 'k--')\n",
    "    plt.xlim([0.0, 1.0])\n",
    "    plt.ylim([0.0, 1.05])\n",
    "    plt.xlabel('False Positive Rate')\n",
    "    plt.ylabel('True Positive Rate')\n",
    "    plt.title('Receiver Operating Characteristic (ROC)')\n",
    "    plt.legend(loc=\"lower right\")\n",
    "    plt.show()"
   ]
  },
  {
   "cell_type": "code",
   "execution_count": 70,
   "metadata": {},
   "outputs": [
    {
     "data": {
      "image/png": "[encoded data removed]",
      "text/plain": [
       "<Figure size 432x288 with 1 Axes>"
      ]
     },
     "metadata": {
      "needs_background": "light"
     },
     "output_type": "display_data"
    }
   ],
   "source": [
    "plot_roc(pred2,ytest)"
   ]
  },
  {
   "cell_type": "code",
   "execution_count": 71,
   "metadata": {},
   "outputs": [
    {
     "data": {
      "image/png": "[encoded data removed]",
      "text/plain": [
       "<Figure size 432x288 with 2 Axes>"
      ]
     },
     "metadata": {
      "needs_background": "light"
     },
     "output_type": "display_data"
    }
   ],
   "source": [
    "import seaborn as sns\n",
    "import matplotlib.pyplot as plt     \n",
    "\n",
    "ax= plt.subplot()\n",
    "sns.heatmap(cm, annot=True, ax = ax); #annot=True to annotate cells\n",
    "\n",
    "# labels, title and ticks\n",
    "ax.set_xlabel('Predicted labels');ax.set_ylabel('True labels'); \n",
    "ax.set_title('Confusion Matrix'); \n",
    "ax.set_xticklabels(['normal', 'attack']); ax.set_yticklabels(['normal', 'attack']);"
   ]
  },
  {
   "cell_type": "code",
   "execution_count": 72,
   "metadata": {},
   "outputs": [
    {
     "name": "stdout",
     "output_type": "stream",
     "text": [
      "Train on 81173 samples, validate on 35179 samples\n",
      "Epoch 1/1000\n",
      "81173/81173 - 4s - loss: 0.5022 - acc: 0.7776 - val_loss: 0.4275 - val_acc: 0.8284\n",
      "Epoch 2/1000\n",
      "81173/81173 - 3s - loss: 0.1607 - acc: 0.9693 - val_loss: 0.2486 - val_acc: 0.9152\n",
      "Epoch 3/1000\n",
      "81173/81173 - 3s - loss: 0.0923 - acc: 0.9744 - val_loss: 0.2219 - val_acc: 0.9192\n",
      "Epoch 4/1000\n",
      "81173/81173 - 3s - loss: 0.0840 - acc: 0.9763 - val_loss: 0.2034 - val_acc: 0.9200\n",
      "Epoch 5/1000\n",
      "81173/81173 - 3s - loss: 0.0801 - acc: 0.9767 - val_loss: 0.2088 - val_acc: 0.9201\n",
      "Epoch 6/1000\n",
      "81173/81173 - 3s - loss: 0.0772 - acc: 0.9769 - val_loss: 0.2022 - val_acc: 0.9196\n",
      "Epoch 7/1000\n",
      "81173/81173 - 3s - loss: 0.0750 - acc: 0.9770 - val_loss: 0.2077 - val_acc: 0.9199\n",
      "Epoch 8/1000\n",
      "81173/81173 - 3s - loss: 0.0736 - acc: 0.9774 - val_loss: 0.1971 - val_acc: 0.9202\n",
      "Epoch 9/1000\n",
      "81173/81173 - 3s - loss: 0.0723 - acc: 0.9775 - val_loss: 0.1960 - val_acc: 0.9196\n",
      "Epoch 10/1000\n",
      "81173/81173 - 3s - loss: 0.0712 - acc: 0.9775 - val_loss: 0.1886 - val_acc: 0.9202\n",
      "Epoch 11/1000\n",
      "81173/81173 - 3s - loss: 0.0704 - acc: 0.9775 - val_loss: 0.1834 - val_acc: 0.9195\n",
      "Epoch 12/1000\n",
      "81173/81173 - 3s - loss: 0.0695 - acc: 0.9775 - val_loss: 0.1857 - val_acc: 0.9202\n",
      "Epoch 13/1000\n",
      "81173/81173 - 3s - loss: 0.0688 - acc: 0.9775 - val_loss: 0.1879 - val_acc: 0.9201\n",
      "Epoch 14/1000\n",
      "81173/81173 - 3s - loss: 0.0681 - acc: 0.9774 - val_loss: 0.1825 - val_acc: 0.9198\n",
      "Epoch 15/1000\n",
      "81173/81173 - 3s - loss: 0.0675 - acc: 0.9774 - val_loss: 0.1680 - val_acc: 0.9200\n",
      "Epoch 16/1000\n",
      "81173/81173 - 3s - loss: 0.0668 - acc: 0.9774 - val_loss: 0.1649 - val_acc: 0.9203\n",
      "Epoch 17/1000\n",
      "81173/81173 - 3s - loss: 0.0663 - acc: 0.9776 - val_loss: 0.1636 - val_acc: 0.9197\n",
      "Epoch 18/1000\n",
      "81173/81173 - 3s - loss: 0.0656 - acc: 0.9778 - val_loss: 0.1708 - val_acc: 0.9203\n",
      "Epoch 19/1000\n",
      "81173/81173 - 4s - loss: 0.0651 - acc: 0.9781 - val_loss: 0.1616 - val_acc: 0.9199\n",
      "Epoch 20/1000\n",
      "81173/81173 - 4s - loss: 0.0646 - acc: 0.9784 - val_loss: 0.1558 - val_acc: 0.9205\n",
      "Epoch 21/1000\n",
      "81173/81173 - 3s - loss: 0.0641 - acc: 0.9784 - val_loss: 0.1602 - val_acc: 0.9200\n",
      "Epoch 22/1000\n",
      "81173/81173 - 3s - loss: 0.0636 - acc: 0.9784 - val_loss: 0.1755 - val_acc: 0.9207\n",
      "Epoch 23/1000\n",
      "81173/81173 - 3s - loss: 0.0631 - acc: 0.9783 - val_loss: 0.1605 - val_acc: 0.9209\n",
      "Epoch 24/1000\n",
      "81173/81173 - 3s - loss: 0.0627 - acc: 0.9784 - val_loss: 0.1413 - val_acc: 0.9206\n",
      "Epoch 25/1000\n",
      "81173/81173 - 3s - loss: 0.0622 - acc: 0.9783 - val_loss: 0.1518 - val_acc: 0.9207\n",
      "Epoch 26/1000\n",
      "81173/81173 - 3s - loss: 0.0619 - acc: 0.9783 - val_loss: 0.1433 - val_acc: 0.9208\n",
      "Epoch 27/1000\n",
      "81173/81173 - 3s - loss: 0.0615 - acc: 0.9783 - val_loss: 0.1483 - val_acc: 0.9202\n",
      "Epoch 28/1000\n",
      "81173/81173 - 3s - loss: 0.0610 - acc: 0.9784 - val_loss: 0.1416 - val_acc: 0.9202\n",
      "Epoch 29/1000\n",
      "81173/81173 - 3s - loss: 0.0606 - acc: 0.9784 - val_loss: 0.1599 - val_acc: 0.9198\n",
      "Epoch 00029: early stopping\n"
     ]
    },
    {
     "data": {
      "text/plain": [
       "<tensorflow.python.keras.callbacks.History at 0x2898a43b7b8>"
      ]
     },
     "execution_count": 72,
     "metadata": {},
     "output_type": "execute_result"
    }
   ],
   "source": [
    "model3 = Sequential()\n",
    "#Activations used = Relu, and sigmoid and optimizer = sgd\n",
    "\n",
    "model3.add(Dense(5, input_dim = 10,activation='relu'))\n",
    "model3.add(Dense(5, activation='relu'))\n",
    "model3.add(Dense(1, activation='sigmoid'))\n",
    "model3.compile(loss='binary_crossentropy', optimizer='sgd', metrics = ['accuracy'])\n",
    "monitor = EarlyStopping(monitor='val_loss', min_delta=1e-3, patience=5, verbose=1, mode='auto')\n",
    "checkpointer = ModelCheckpoint(filepath=\"C:\\\\Users\\\\Amit\\\\Desktop\\\\UNSW_NB15_training-set_csc215.csv\", verbose=0, save_best_only=True)\n",
    "model3.fit(x_train, ytrain,validation_data=(x_test,ytest),callbacks=[monitor,checkpointer],verbose=2,epochs=1000)"
   ]
  },
  {
   "cell_type": "code",
   "execution_count": 73,
   "metadata": {},
   "outputs": [],
   "source": [
    "pred3 = model3.predict(x_test)"
   ]
  },
  {
   "cell_type": "code",
   "execution_count": 74,
   "metadata": {},
   "outputs": [
    {
     "data": {
      "text/plain": [
       "array([[ 6808,  2817],\n",
       "       [    3, 25551]], dtype=int64)"
      ]
     },
     "execution_count": 74,
     "metadata": {},
     "output_type": "execute_result"
    }
   ],
   "source": [
    "from sklearn.metrics import confusion_matrix\n",
    "cm =confusion_matrix(ytest, pred3.round())\n",
    "cm"
   ]
  },
  {
   "cell_type": "code",
   "execution_count": 75,
   "metadata": {},
   "outputs": [
    {
     "name": "stdout",
     "output_type": "stream",
     "text": [
      "Accuracy:  0.919838540038091\n"
     ]
    }
   ],
   "source": [
    "from sklearn.metrics import accuracy_score\n",
    "print(\"Accuracy: \", accuracy_score(ytest, pred3.round()))"
   ]
  },
  {
   "cell_type": "code",
   "execution_count": 76,
   "metadata": {},
   "outputs": [
    {
     "name": "stdout",
     "output_type": "stream",
     "text": [
      "              precision    recall  f1-score   support\n",
      "\n",
      "           0       1.00      0.71      0.83      9625\n",
      "           1       0.90      1.00      0.95     25554\n",
      "\n",
      "    accuracy                           0.92     35179\n",
      "   macro avg       0.95      0.85      0.89     35179\n",
      "weighted avg       0.93      0.92      0.92     35179\n",
      "\n"
     ]
    }
   ],
   "source": [
    "from sklearn.metrics import classification_report\n",
    "print(classification_report(ytest, pred3.round()))"
   ]
  },
  {
   "cell_type": "code",
   "execution_count": 77,
   "metadata": {},
   "outputs": [],
   "source": [
    "%matplotlib inline\n",
    "import matplotlib.pyplot as plt\n",
    "from sklearn.metrics import roc_curve, auc\n",
    "\n",
    "def plot_roc(pred,y):\n",
    "    fpr, tpr, thresholds = roc_curve(y, pred)\n",
    "    roc_auc = auc(fpr, tpr)\n",
    "\n",
    "    plt.figure()\n",
    "    plt.plot(fpr, tpr, label='ROC curve (area = %0.2f)' % roc_auc)\n",
    "    plt.plot([0, 1], [0, 1], 'k--')\n",
    "    plt.xlim([0.0, 1.0])\n",
    "    plt.ylim([0.0, 1.05])\n",
    "    plt.xlabel('False Positive Rate')\n",
    "    plt.ylabel('True Positive Rate')\n",
    "    plt.title('Receiver Operating Characteristic (ROC)')\n",
    "    plt.legend(loc=\"lower right\")\n",
    "    plt.show()"
   ]
  },
  {
   "cell_type": "code",
   "execution_count": 78,
   "metadata": {},
   "outputs": [
    {
     "data": {
      "image/png": "[encoded data removed]",
      "text/plain": [
       "<Figure size 432x288 with 1 Axes>"
      ]
     },
     "metadata": {
      "needs_background": "light"
     },
     "output_type": "display_data"
    }
   ],
   "source": [
    "plot_roc(pred3,ytest)"
   ]
  },
  {
   "cell_type": "code",
   "execution_count": 79,
   "metadata": {},
   "outputs": [
    {
     "data": {
      "image/png": "[encoded data removed]",
      "text/plain": [
       "<Figure size 432x288 with 2 Axes>"
      ]
     },
     "metadata": {
      "needs_background": "light"
     },
     "output_type": "display_data"
    }
   ],
   "source": [
    "import seaborn as sns\n",
    "import matplotlib.pyplot as plt     \n",
    "\n",
    "ax= plt.subplot()\n",
    "sns.heatmap(cm, annot=True, ax = ax); #annot=True to annotate cells\n",
    "\n",
    "# labels, title and ticks\n",
    "ax.set_xlabel('Predicted labels');ax.set_ylabel('True labels'); \n",
    "ax.set_title('Confusion Matrix'); \n",
    "ax.set_xticklabels(['normal', 'attack']); ax.set_yticklabels(['normal', 'attack']);"
   ]
  },
  {
   "cell_type": "code",
   "execution_count": 80,
   "metadata": {},
   "outputs": [
    {
     "name": "stdout",
     "output_type": "stream",
     "text": [
      "Train on 81173 samples, validate on 35179 samples\n",
      "Epoch 1/1000\n",
      "81173/81173 - 4s - loss: 0.1553 - acc: 0.9448 - val_loss: 0.2135 - val_acc: 0.9194\n",
      "Epoch 2/1000\n",
      "81173/81173 - 3s - loss: 0.0815 - acc: 0.9772 - val_loss: 0.2321 - val_acc: 0.9194\n",
      "Epoch 3/1000\n",
      "81173/81173 - 4s - loss: 0.0769 - acc: 0.9770 - val_loss: 0.1749 - val_acc: 0.9194\n",
      "Epoch 4/1000\n",
      "81173/81173 - 3s - loss: 0.0726 - acc: 0.9767 - val_loss: 0.1468 - val_acc: 0.9197\n",
      "Epoch 5/1000\n",
      "81173/81173 - 3s - loss: 0.0679 - acc: 0.9769 - val_loss: 0.1319 - val_acc: 0.9235\n",
      "Epoch 6/1000\n",
      "81173/81173 - 3s - loss: 0.0636 - acc: 0.9774 - val_loss: 0.1329 - val_acc: 0.9227\n",
      "Epoch 7/1000\n",
      "81173/81173 - 3s - loss: 0.0608 - acc: 0.9783 - val_loss: 0.1211 - val_acc: 0.9329\n",
      "Epoch 8/1000\n",
      "81173/81173 - 3s - loss: 0.0598 - acc: 0.9788 - val_loss: 0.1246 - val_acc: 0.9260\n",
      "Epoch 9/1000\n",
      "81173/81173 - 3s - loss: 0.0588 - acc: 0.9791 - val_loss: 0.1029 - val_acc: 0.9611\n",
      "Epoch 10/1000\n",
      "81173/81173 - 3s - loss: 0.0582 - acc: 0.9791 - val_loss: 0.1238 - val_acc: 0.9285\n",
      "Epoch 11/1000\n",
      "81173/81173 - 5s - loss: 0.0578 - acc: 0.9792 - val_loss: 0.1116 - val_acc: 0.9455\n",
      "Epoch 12/1000\n",
      "81173/81173 - 3s - loss: 0.0574 - acc: 0.9793 - val_loss: 0.1357 - val_acc: 0.9221\n",
      "Epoch 13/1000\n",
      "81173/81173 - 3s - loss: 0.0570 - acc: 0.9795 - val_loss: 0.1039 - val_acc: 0.9563\n",
      "Epoch 14/1000\n",
      "81173/81173 - 3s - loss: 0.0568 - acc: 0.9793 - val_loss: 0.1086 - val_acc: 0.9505\n",
      "Epoch 00014: early stopping\n"
     ]
    },
    {
     "data": {
      "text/plain": [
       "<tensorflow.python.keras.callbacks.History at 0x289ac60c6d8>"
      ]
     },
     "execution_count": 80,
     "metadata": {},
     "output_type": "execute_result"
    }
   ],
   "source": [
    "model4 = Sequential()\n",
    "#Activation used = tanh and sigmoid and optmizer = adam\n",
    "\n",
    "model4.add(Dense(5, input_dim = 10,activation='tanh'))\n",
    "model4.add(Dense(5, activation='tanh'))\n",
    "model4.add(Dense(1, activation='sigmoid'))\n",
    "model4.compile(loss='binary_crossentropy', optimizer='adam', metrics = ['accuracy'])\n",
    "monitor = EarlyStopping(monitor='val_loss', min_delta=1e-3, patience=5, verbose=1, mode='auto')\n",
    "checkpointer = ModelCheckpoint(filepath=\"C:\\\\Users\\\\Amit\\\\Desktop\\\\UNSW_NB15_training-set_csc215.csv\", verbose=0, save_best_only=True)\n",
    "model4.fit(x_train, ytrain,validation_data=(x_test,ytest),callbacks=[monitor,checkpointer],verbose=2,epochs=1000)"
   ]
  },
  {
   "cell_type": "code",
   "execution_count": 81,
   "metadata": {},
   "outputs": [],
   "source": [
    "pred4 = model4.predict(x_test)"
   ]
  },
  {
   "cell_type": "code",
   "execution_count": 82,
   "metadata": {},
   "outputs": [
    {
     "data": {
      "text/plain": [
       "array([[ 8063,  1562],\n",
       "       [  178, 25376]], dtype=int64)"
      ]
     },
     "execution_count": 82,
     "metadata": {},
     "output_type": "execute_result"
    }
   ],
   "source": [
    "from sklearn.metrics import confusion_matrix\n",
    "cm =confusion_matrix(ytest, pred4.round())\n",
    "cm"
   ]
  },
  {
   "cell_type": "code",
   "execution_count": 83,
   "metadata": {},
   "outputs": [
    {
     "name": "stdout",
     "output_type": "stream",
     "text": [
      "Accuracy:  0.9505386736405241\n"
     ]
    }
   ],
   "source": [
    "from sklearn.metrics import accuracy_score\n",
    "print(\"Accuracy: \", accuracy_score(ytest, pred4.round()))"
   ]
  },
  {
   "cell_type": "code",
   "execution_count": 84,
   "metadata": {},
   "outputs": [
    {
     "name": "stdout",
     "output_type": "stream",
     "text": [
      "              precision    recall  f1-score   support\n",
      "\n",
      "           0       0.98      0.84      0.90      9625\n",
      "           1       0.94      0.99      0.97     25554\n",
      "\n",
      "    accuracy                           0.95     35179\n",
      "   macro avg       0.96      0.92      0.93     35179\n",
      "weighted avg       0.95      0.95      0.95     35179\n",
      "\n"
     ]
    }
   ],
   "source": [
    "from sklearn.metrics import classification_report\n",
    "print(classification_report(ytest, pred4.round()))"
   ]
  },
  {
   "cell_type": "code",
   "execution_count": 85,
   "metadata": {},
   "outputs": [],
   "source": [
    "%matplotlib inline\n",
    "import matplotlib.pyplot as plt\n",
    "from sklearn.metrics import roc_curve, auc\n",
    "\n",
    "def plot_roc(pred,y):\n",
    "    fpr, tpr, thresholds = roc_curve(y, pred)\n",
    "    roc_auc = auc(fpr, tpr)\n",
    "\n",
    "    plt.figure()\n",
    "    plt.plot(fpr, tpr, label='ROC curve (area = %0.2f)' % roc_auc)\n",
    "    plt.plot([0, 1], [0, 1], 'k--')\n",
    "    plt.xlim([0.0, 1.0])\n",
    "    plt.ylim([0.0, 1.05])\n",
    "    plt.xlabel('False Positive Rate')\n",
    "    plt.ylabel('True Positive Rate')\n",
    "    plt.title('Receiver Operating Characteristic (ROC)')\n",
    "    plt.legend(loc=\"lower right\")\n",
    "    plt.show()"
   ]
  },
  {
   "cell_type": "code",
   "execution_count": 86,
   "metadata": {},
   "outputs": [
    {
     "data": {
      "image/png": "[encoded data removed]",
      "text/plain": [
       "<Figure size 432x288 with 1 Axes>"
      ]
     },
     "metadata": {
      "needs_background": "light"
     },
     "output_type": "display_data"
    }
   ],
   "source": [
    "plot_roc(pred4,ytest)"
   ]
  },
  {
   "cell_type": "code",
   "execution_count": 87,
   "metadata": {},
   "outputs": [
    {
     "data": {
      "image/png": "[encoded data removed]",
      "text/plain": [
       "<Figure size 432x288 with 2 Axes>"
      ]
     },
     "metadata": {
      "needs_background": "light"
     },
     "output_type": "display_data"
    }
   ],
   "source": [
    "import seaborn as sns\n",
    "import matplotlib.pyplot as plt     \n",
    "\n",
    "ax= plt.subplot()\n",
    "sns.heatmap(cm, annot=True, ax = ax); #annot=True to annotate cells\n",
    "\n",
    "# labels, title and ticks\n",
    "ax.set_xlabel('Predicted labels');ax.set_ylabel('True labels'); \n",
    "ax.set_title('Confusion Matrix'); \n",
    "ax.set_xticklabels(['normal', 'attack']); ax.set_yticklabels(['normal', 'attack']);"
   ]
  }
 ],
 "metadata": {
  "kernelspec": {
   "display_name": "Python 3",
   "language": "python",
   "name": "python3"
  },
  "language_info": {
   "codemirror_mode": {
    "name": "ipython",
    "version": 3
   },
   "file_extension": ".py",
   "mimetype": "text/x-python",
   "name": "python",
   "nbconvert_exporter": "python",
   "pygments_lexer": "ipython3",
   "version": "3.7.3"
  }
 },
 "nbformat": 4,
 "nbformat_minor": 2
}
